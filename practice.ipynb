{
 "cells": [
  {
   "cell_type": "code",
   "execution_count": 1,
   "id": "cf90cc79",
   "metadata": {},
   "outputs": [
    {
     "name": "stdout",
     "output_type": "stream",
     "text": [
      "Hello, dinesh\n",
      "You are from nellore\n",
      "You are 20 years old.\n",
      "Your rate is 5.0\n"
     ]
    }
   ],
   "source": [
    "name = input(\"Enter your name: \")\n",
    "print(\"Hello,\", name)\n",
    "city = input(\"Enter your city: \")\n",
    "print(\"You are from\", city)\n",
    "age = int(input(\"Enter your age: \"))\n",
    "print(\"You are\", age, \"years old.\")\n",
    "rate = float(input(\"Enter your rate: \"))\n",
    "print(\"Your rate is\", rate)"
   ]
  },
  {
   "cell_type": "code",
   "execution_count": 2,
   "id": "b5371dd3",
   "metadata": {},
   "outputs": [
    {
     "name": "stdout",
     "output_type": "stream",
     "text": [
      "Welcome to Python!\n",
      "Sum: 8\n",
      "Hello World !\n",
      "Name: Alice\n",
      "Name: Alice Age: 22 City: New York\n"
     ]
    }
   ],
   "source": [
    "print(\"Welcome to Python!\")\n",
    "print(\"Sum:\", 5 + 3)\n",
    "print(\"Hello\", \"World\", \"!\")\n",
    "name = \"Alice\"\n",
    "print(\"Name:\", name)\n",
    "name, age, city = \"Alice\", 22, \"New York\"\n",
    "print(\"Name:\", name, \"Age:\", age, \"City:\", city)"
   ]
  },
  {
   "cell_type": "code",
   "execution_count": 3,
   "id": "e1cb28ad",
   "metadata": {},
   "outputs": [
    {
     "name": "stdout",
     "output_type": "stream",
     "text": [
      "welcome to python class\n",
      "name is ram\n",
      "city is kota\n",
      "age is 20\n",
      "rate is 5.0\n",
      " name is ram,city is kota,age is 20,rate is 5.0\n",
      "name is dinesh city is nellore age is 20 rate is 5.5\n"
     ]
    }
   ],
   "source": [
    "\n",
    "\n",
    "print(\"welcome to python class\")\n",
    "\n",
    "x=str(input('enter your name:'))\n",
    "print('name is', x)\n",
    "city=input('enter your city:')\n",
    "print('city is', city )\n",
    "age=int(input('enter your age:'))\n",
    "print('age is', age)                                \n",
    "rate=float(input('enter your rate:'))\n",
    "print('rate is', rate)      \n",
    "\n",
    "print(f\" name is {x},city is {city},age is {age},rate is {rate}\")\n",
    "\n",
    "print(\"name is\",'dinesh',\"city is\",\"nellore\",\"age is\",20,\"rate is\",5.50)"
   ]
  },
  {
   "cell_type": "code",
   "execution_count": 5,
   "id": "d91506b1",
   "metadata": {},
   "outputs": [
    {
     "name": "stdout",
     "output_type": "stream",
     "text": [
      " name is dinesh,city is nellore,age is 20,rate is 5.5\n",
      "name is dinesh city is nellore age is 20 rate is 5.5\n",
      "dinesh,nellore,20,5.5\n"
     ]
    }
   ],
   "source": [
    "x='dinesh'\n",
    "city='nellore'\n",
    "age=20\n",
    "rate=5.50\n",
    "\n",
    "\n",
    "print(f\" name is {x},city is {city},age is {age},rate is {rate}\")\n",
    "\n",
    "print(\"name is\",'dinesh',\"city is\",\"nellore\",\"age is\",20,\"rate is\",5.50)\n",
    "print(f\"{x},{city},{age},{rate}\")"
   ]
  },
  {
   "cell_type": "code",
   "execution_count": 6,
   "id": "ca03f3b6",
   "metadata": {},
   "outputs": [
    {
     "name": "stdout",
     "output_type": "stream",
     "text": [
      "A-B\n",
      "Hello!"
     ]
    }
   ],
   "source": [
    "print(\"A\", \"B\", sep=\"-\")  # Output: A-B\n",
    "print(\"Hello\", end=\"!\")   # Output: Hello!"
   ]
  },
  {
   "cell_type": "code",
   "execution_count": 7,
   "id": "43eacd88",
   "metadata": {},
   "outputs": [
    {
     "name": "stdout",
     "output_type": "stream",
     "text": [
      "Alice is 22 years old.\n"
     ]
    }
   ],
   "source": [
    "name = \"Alice\"\n",
    "age = 22\n",
    "print(f\"{name} is {age} years old.\")"
   ]
  },
  {
   "cell_type": "markdown",
   "id": "71250392",
   "metadata": {},
   "source": [
    "The 10 Data Types\n",
    "int (Integer)\n",
    "Whole numbers, e.g., 5, -10, 0\n",
    "Example:"
   ]
  },
  {
   "cell_type": "code",
   "execution_count": 8,
   "id": "e4ff5645",
   "metadata": {},
   "outputs": [
    {
     "name": "stdout",
     "output_type": "stream",
     "text": [
      "<class 'int'>\n"
     ]
    }
   ],
   "source": [
    "x = 10\n",
    "print(type(x))  # <class 'int'>"
   ]
  },
  {
   "cell_type": "markdown",
   "id": "9873f5d9",
   "metadata": {},
   "source": [
    "float (Floating Point)\n",
    "Numbers with decimals, e.g., 3.14, -0.5\n"
   ]
  },
  {
   "cell_type": "code",
   "execution_count": 9,
   "id": "9c99fa5e",
   "metadata": {},
   "outputs": [
    {
     "name": "stdout",
     "output_type": "stream",
     "text": [
      "<class 'float'>\n"
     ]
    }
   ],
   "source": [
    "y = 3.5\n",
    "print(type(y))  # <class 'float'>"
   ]
  },
  {
   "cell_type": "code",
   "execution_count": 10,
   "id": "59ee7b43",
   "metadata": {},
   "outputs": [
    {
     "name": "stdout",
     "output_type": "stream",
     "text": [
      "<class 'collections.OrderedDict'>\n"
     ]
    }
   ],
   "source": [
    "from collections import OrderedDict\n",
    "od = OrderedDict()\n",
    "od[\"apple\"] = 1\n",
    "od[\"banana\"] = 2\n",
    "print(type(od))  # <class 'collections.OrderedDict'>"
   ]
  },
  {
   "cell_type": "markdown",
   "id": "67c9f496",
   "metadata": {},
   "source": [
    " Operator Types in Python\n",
    " "
   ]
  },
  {
   "cell_type": "markdown",
   "id": "0a660f87",
   "metadata": {},
   "source": [
    "Arithmetic Operators\n",
    "Used for mathematical operations.\n",
    "+ (Addition), - (Subtraction), * (Multiplication), / (Division), // (Floor Division), % (Modulus), ** (Exponentiation)"
   ]
  },
  {
   "cell_type": "code",
   "execution_count": 11,
   "id": "8555eb83",
   "metadata": {},
   "outputs": [
    {
     "name": "stdout",
     "output_type": "stream",
     "text": [
      "13\n",
      "3.3333333333333335\n",
      "3\n",
      "1000\n"
     ]
    }
   ],
   "source": [
    "a = 10\n",
    "b = 3\n",
    "print(a + b)  # 13\n",
    "print(a / b)  # 3.333...\n",
    "print(a // b) # 3\n",
    "print(a ** b) # 1000"
   ]
  },
  {
   "cell_type": "code",
   "execution_count": 13,
   "id": "7bdeb4d9",
   "metadata": {},
   "outputs": [
    {
     "name": "stdout",
     "output_type": "stream",
     "text": [
      "1\n",
      "7\n",
      "6\n",
      "-6\n",
      "10\n",
      "2\n"
     ]
    }
   ],
   "source": [
    "a = 5  # 0101\n",
    "b = 3  # 0011\n",
    "print(a & b)  # 1\n",
    "print(a | b)  # 7\n",
    "print(a ^ b)  # 6\n",
    "print(~a)     # -6\n",
    "print(a << 1) # 10\n",
    "print(a >> 1) # 2"
   ]
  },
  {
   "cell_type": "code",
   "execution_count": 2,
   "id": "9baddff5",
   "metadata": {},
   "outputs": [
    {
     "name": "stdout",
     "output_type": "stream",
     "text": [
      "count 1\n",
      "count 2\n"
     ]
    }
   ],
   "source": [
    "movies=['peddi1','peddi2','og1','og2','orange','yavadu','dhruva','hyper','oye']\n",
    "\n",
    "movies_with_p=0\n",
    "for movie in movies:\n",
    "    if movie.startswith('p')or movie.startswith('P'):\n",
    "        movies_with_p+=1\n",
    "        print('count',movies_with_p)\n",
    "        "
   ]
  },
  {
   "cell_type": "code",
   "execution_count": 3,
   "id": "ccc40802",
   "metadata": {},
   "outputs": [
    {
     "name": "stdout",
     "output_type": "stream",
     "text": [
      "count 1\n",
      "count 2\n",
      "count 3\n",
      "count 4\n"
     ]
    }
   ],
   "source": [
    "movies=['peddi1','peddi2','og1','og2','orange','yavadu','dhruva','hyper','oye']\n",
    "\n",
    "movies_with_o=0\n",
    "for movie in movies:\n",
    "    if movie.startswith('o')or movie.startswith('O'):\n",
    "        movies_with_o+=1\n",
    "        print('count',movies_with_o)"
   ]
  },
  {
   "cell_type": "code",
   "execution_count": 4,
   "id": "0eb42ec8",
   "metadata": {},
   "outputs": [
    {
     "name": "stdout",
     "output_type": "stream",
     "text": [
      "(i)*1\n",
      "10\n",
      "(i)*10\n",
      "90\n",
      "(i)*90\n",
      "720\n",
      "(i)*720\n",
      "5040\n",
      "(i)*5040\n",
      "30240\n",
      "(i)*30240\n",
      "151200\n",
      "(i)*151200\n",
      "604800\n",
      "(i)*604800\n",
      "1814400\n",
      "(i)*1814400\n",
      "3628800\n",
      "(i)*3628800\n",
      "3628800\n"
     ]
    }
   ],
   "source": [
    "num=10\n",
    "fact=1\n",
    "#we can use backward or forward loop\n",
    "for i in range(num,0,-1):\n",
    "    print(f'(i)*{fact}')\n",
    "    fact=fact*i\n",
    "    print(fact)"
   ]
  },
  {
   "cell_type": "code",
   "execution_count": 5,
   "id": "4ee7a14d",
   "metadata": {},
   "outputs": [
    {
     "name": "stdout",
     "output_type": "stream",
     "text": [
      "(i)*1\n",
      "(i)*10\n",
      "(i)*90\n",
      "(i)*720\n",
      "(i)*5040\n",
      "(i)*30240\n",
      "(i)*151200\n",
      "(i)*604800\n",
      "(i)*1814400\n",
      "(i)*3628800\n",
      "3628800\n"
     ]
    }
   ],
   "source": [
    "num=10\n",
    "fact=1\n",
    "#we can use backward or forward loop\n",
    "for i in range(num,0,-1):\n",
    "    print(f'(i)*{fact}')\n",
    "    fact=fact*i\n",
    "print(fact)"
   ]
  },
  {
   "cell_type": "code",
   "execution_count": 7,
   "id": "37aa9bc1",
   "metadata": {},
   "outputs": [
    {
     "name": "stdout",
     "output_type": "stream",
     "text": [
      "10*1\n",
      "9*10\n",
      "8*90\n",
      "7*720\n",
      "6*5040\n",
      "5*30240\n",
      "4*151200\n",
      "3*604800\n",
      "2*1814400\n",
      "1*3628800\n",
      "3628800\n"
     ]
    }
   ],
   "source": [
    "\n",
    "num=10\n",
    "fact=1\n",
    "#we can use backward or forward loop\n",
    "for i in range(num,0,-1):\n",
    "    print(f'{i}*{fact}')\n",
    "    fact=fact * i\n",
    "print(fact)"
   ]
  },
  {
   "cell_type": "markdown",
   "id": "374fc81c",
   "metadata": {},
   "source": [
    "NESTED LOOP\n",
    "\n",
    "FOR LOOP:\n",
    "    FOR LOOP:\n",
    "        FOR LOOP:"
   ]
  },
  {
   "cell_type": "code",
   "execution_count": null,
   "id": "2ef7a6eb",
   "metadata": {},
   "outputs": [
    {
     "name": "stdout",
     "output_type": "stream",
     "text": [
      "i=1,j=1\n",
      "i=1,j=2\n",
      "i=1,j=3\n",
      "i=1,j=4\n",
      "i=1,j=5\n",
      "i=2,j=1\n",
      "i=2,j=2\n",
      "i=2,j=3\n",
      "i=2,j=4\n",
      "i=2,j=5\n",
      "i=3,j=1\n",
      "i=3,j=2\n",
      "i=3,j=3\n",
      "i=3,j=4\n",
      "i=3,j=5\n",
      "i=4,j=1\n",
      "i=4,j=2\n",
      "i=4,j=3\n",
      "i=4,j=4\n",
      "i=4,j=5\n",
      "i=5,j=1\n",
      "i=5,j=2\n",
      "i=5,j=3\n",
      "i=5,j=4\n",
      "i=5,j=5\n",
      "i=6,j=1\n",
      "i=6,j=2\n",
      "i=6,j=3\n",
      "i=6,j=4\n",
      "i=6,j=5\n",
      "i=7,j=1\n",
      "i=7,j=2\n",
      "i=7,j=3\n",
      "i=7,j=4\n",
      "i=7,j=5\n",
      "i=8,j=1\n",
      "i=8,j=2\n",
      "i=8,j=3\n",
      "i=8,j=4\n",
      "i=8,j=5\n",
      "i=9,j=1\n",
      "i=9,j=2\n",
      "i=9,j=3\n",
      "i=9,j=4\n",
      "i=9,j=5\n",
      "i=10,j=1\n",
      "i=10,j=2\n",
      "i=10,j=3\n",
      "i=10,j=4\n",
      "i=10,j=5\n"
     ]
    }
   ],
   "source": [
    "#LOOP TOTAL 10*5 =>50 times\n",
    "  \n",
    "for i in range(1,11):\n",
    "    for j in range(1,6):\n",
    "        print(f'i={i},j={j}')"
   ]
  },
  {
   "cell_type": "code",
   "execution_count": 12,
   "id": "0ff430f4",
   "metadata": {},
   "outputs": [
    {
     "name": "stdout",
     "output_type": "stream",
     "text": [
      "1 \n",
      "1 \n",
      "1 \n",
      "1 \n",
      "1 \n",
      "1 \n",
      "1 \n",
      "1 \n",
      "1 \n",
      "1 \n",
      "1 \n",
      "1 \n",
      "1 \n",
      "1 \n",
      "1 \n",
      "1 \n",
      "1 \n",
      "1 \n",
      "1 \n",
      "1 \n",
      "1 \n",
      "1 \n",
      "1 \n",
      "1 \n",
      "1 \n"
     ]
    }
   ],
   "source": [
    "n=6\n",
    "for i in range(1,n):\n",
    "    for j in range(1,n):\n",
    "        print(1,end=' ')\n",
    "        print()"
   ]
  },
  {
   "cell_type": "code",
   "execution_count": 13,
   "id": "7a947fa8",
   "metadata": {},
   "outputs": [
    {
     "name": "stdout",
     "output_type": "stream",
     "text": [
      "1 1 1 1 1 \n",
      "1 1 1 1 1 \n",
      "1 1 1 1 1 \n",
      "1 1 1 1 1 \n",
      "1 1 1 1 1 \n"
     ]
    }
   ],
   "source": [
    "n=6\n",
    "for i in range(1,n):\n",
    "    for j in range(1,n):\n",
    "        print(1,end=' ')\n",
    "    print()"
   ]
  },
  {
   "cell_type": "code",
   "execution_count": null,
   "id": "02ade7b0",
   "metadata": {},
   "outputs": [
    {
     "name": "stdout",
     "output_type": "stream",
     "text": [
      "16\n",
      "['rrr', 'orange', 'oye', 'kushi', 'badhri', 'mirai', 'premalu', 'court', 'hit', 'paradise', 'peddi', 'chirutha', 'jalsa', 'salaar', 'liger', 'kingdom']\n",
      "[3, 6, 3, 5, 6, 5, 7, 5, 3, 8, 5, 8, 5, 6, 5, 7]\n"
     ]
    }
   ],
   "source": [
    "movies=['rrr','orange','oye','kushi','badhri','mirai', 'premalu','court', 'hit','paradise','peddi','chirutha','jalsa','salaar','liger','kingdom']\n",
    "print(len(movies))\n",
    "movielen=[]\n",
    "\n",
    "for movie in movies:\n",
    "    size=len(movie)\n",
    "    movielen.append(size)\n",
    "\n",
    "print(movies)\n",
    "print(movielen)\n",
    "    "
   ]
  },
  {
   "cell_type": "code",
   "execution_count": null,
   "id": "cd00bb9e",
   "metadata": {},
   "outputs": [],
   "source": [
    "movies=[\n",
    "     'rrr','orange','oye','kushi','badhri','mirai', 'premalu','court', 'hit','paradise','peddi','chirutha','jalsa','salaar','liger','kingdom'\n",
    "    ]\n"
   ]
  },
  {
   "cell_type": "code",
   "execution_count": 13,
   "id": "5ec4d22a",
   "metadata": {},
   "outputs": [
    {
     "name": "stdout",
     "output_type": "stream",
     "text": [
      "['rrr', 'orange', 'oye', 'kushi', 'badhri', 'mirai', 'premalu', 'court', 'hit', 'paradise', 'peddi', 'chirutha', 'jalsa', 'salaar', 'liger', 'kingdom']\n",
      "['RRR', 'ORANGE', 'OYE', 'KUSHI', 'BADHRI', 'MIRAI', 'PREMALU', 'COURT', 'HIT', 'PARADISE', 'PEDDI', 'CHIRUTHA', 'JALSA', 'SALAAR', 'LIGER', 'KINGDOM']\n"
     ]
    }
   ],
   "source": [
    "movie_caps=[]\n",
    "for movie in movies:\n",
    "    name=movie.upper()\n",
    "    movie_caps.append(name)\n",
    "print(movies)\n",
    "print(movie_caps)    "
   ]
  },
  {
   "cell_type": "code",
   "execution_count": 14,
   "id": "721e43f6",
   "metadata": {},
   "outputs": [
    {
     "name": "stdout",
     "output_type": "stream",
     "text": [
      "['rrr', 'orange', 'oye', 'kushi', 'badhri', 'mirai', 'premalu', 'court', 'hit', 'paradise', 'peddi', 'chirutha', 'jalsa', 'salaar', 'liger', 'kingdom']\n",
      "['RRR', 'ORANGE', 'OYE', 'KUSHI', 'BADHRI', 'MIRAI', 'PREMALU', 'COURT', 'HIT', 'PARADISE', 'PEDDI', 'CHIRUTHA', 'JALSA', 'SALAAR', 'LIGER', 'KINGDOM']\n"
     ]
    }
   ],
   "source": [
    "movie_caps=[movie.upper() for movie in movies]\n",
    "print(movies)\n",
    "print(movie_caps)\n"
   ]
  },
  {
   "cell_type": "code",
   "execution_count": 12,
   "id": "a10a695a",
   "metadata": {},
   "outputs": [
    {
     "name": "stdout",
     "output_type": "stream",
     "text": [
      "['rrr', 'orange', 'oye', 'kushi', 'badhri', 'mirai', 'premalu', 'court', 'hit', 'paradise', 'peddi', 'chirutha', 'jalsa', 'salaar', 'liger', 'kingdom']\n",
      "['orange', 'oye', 'court', 'kingdom']\n"
     ]
    }
   ],
   "source": [
    "movies_with_o=[]\n",
    "for item in movies:\n",
    "    if 'O'in  item or 'o'in item:\n",
    "        movies_with_o.append(item)\n",
    "print(movies )\n",
    "print(movies_with_o )"
   ]
  },
  {
   "cell_type": "code",
   "execution_count": null,
   "id": "43a19d8b",
   "metadata": {},
   "outputs": [
    {
     "name": "stdout",
     "output_type": "stream",
     "text": [
      "['rrr', 'orange', 'oye', 'kushi', 'badhri', 'mirai', 'premalu', 'court', 'hit', 'paradise', 'peddi', 'chirutha', 'jalsa', 'salaar', 'liger', 'kingdom']\n",
      "[['orange', 'oye', 'court', 'kingdom'], ['orange', 'oye', 'court', 'kingdom'], ['orange', 'oye', 'court', 'kingdom'], ['orange', 'oye', 'court', 'kingdom'], ['orange', 'oye', 'court', 'kingdom'], ['orange', 'oye', 'court', 'kingdom'], ['orange', 'oye', 'court', 'kingdom'], ['orange', 'oye', 'court', 'kingdom'], ['orange', 'oye', 'court', 'kingdom'], ['orange', 'oye', 'court', 'kingdom'], ['orange', 'oye', 'court', 'kingdom'], ['orange', 'oye', 'court', 'kingdom'], ['orange', 'oye', 'court', 'kingdom'], ['orange', 'oye', 'court', 'kingdom'], ['orange', 'oye', 'court', 'kingdom'], ['orange', 'oye', 'court', 'kingdom']]\n"
     ]
    }
   ],
   "source": [
    "movies_with_o=[ movies_with_o for item in movies]\n",
    "print(movies)\n",
    "print(movies_with_o)"
   ]
  },
  {
   "cell_type": "code",
   "execution_count": 17,
   "id": "978f1358",
   "metadata": {},
   "outputs": [
    {
     "name": "stdout",
     "output_type": "stream",
     "text": [
      "['rrr', 'orange', 'oye', 'kushi', 'badhri', 'mirai', 'premalu', 'court', 'hit', 'paradise', 'peddi', 'chirutha', 'jalsa', 'salaar', 'liger', 'kingdom']\n",
      "['kingdom', 'kingdom']\n"
     ]
    }
   ],
   "source": [
    "movies_with_k=[movie for item in movies  if 'k' in item or 'K' in item]\n",
    "print(movies)\n",
    "print(movies_with_k)"
   ]
  }
 ],
 "metadata": {
  "kernelspec": {
   "display_name": "Python 3",
   "language": "python",
   "name": "python3"
  },
  "language_info": {
   "codemirror_mode": {
    "name": "ipython",
    "version": 3
   },
   "file_extension": ".py",
   "mimetype": "text/x-python",
   "name": "python",
   "nbconvert_exporter": "python",
   "pygments_lexer": "ipython3",
   "version": "3.13.2"
  }
 },
 "nbformat": 4,
 "nbformat_minor": 5
}
