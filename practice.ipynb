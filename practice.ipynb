{
 "cells": [
  {
   "cell_type": "code",
   "execution_count": 1,
   "id": "cf90cc79",
   "metadata": {},
   "outputs": [
    {
     "name": "stdout",
     "output_type": "stream",
     "text": [
      "Hello, dinesh\n",
      "You are from nellore\n",
      "You are 20 years old.\n",
      "Your rate is 5.0\n"
     ]
    }
   ],
   "source": [
    "name = input(\"Enter your name: \")\n",
    "print(\"Hello,\", name)\n",
    "city = input(\"Enter your city: \")\n",
    "print(\"You are from\", city)\n",
    "age = int(input(\"Enter your age: \"))\n",
    "print(\"You are\", age, \"years old.\")\n",
    "rate = float(input(\"Enter your rate: \"))\n",
    "print(\"Your rate is\", rate)"
   ]
  },
  {
   "cell_type": "code",
   "execution_count": 2,
   "id": "b5371dd3",
   "metadata": {},
   "outputs": [
    {
     "name": "stdout",
     "output_type": "stream",
     "text": [
      "Welcome to Python!\n",
      "Sum: 8\n",
      "Hello World !\n",
      "Name: Alice\n",
      "Name: Alice Age: 22 City: New York\n"
     ]
    }
   ],
   "source": [
    "print(\"Welcome to Python!\")\n",
    "print(\"Sum:\", 5 + 3)\n",
    "print(\"Hello\", \"World\", \"!\")\n",
    "name = \"Alice\"\n",
    "print(\"Name:\", name)\n",
    "name, age, city = \"Alice\", 22, \"New York\"\n",
    "print(\"Name:\", name, \"Age:\", age, \"City:\", city)"
   ]
  },
  {
   "cell_type": "code",
   "execution_count": 3,
   "id": "e1cb28ad",
   "metadata": {},
   "outputs": [
    {
     "name": "stdout",
     "output_type": "stream",
     "text": [
      "welcome to python class\n",
      "name is ram\n",
      "city is kota\n",
      "age is 20\n",
      "rate is 5.0\n",
      " name is ram,city is kota,age is 20,rate is 5.0\n",
      "name is dinesh city is nellore age is 20 rate is 5.5\n"
     ]
    }
   ],
   "source": [
    "\n",
    "\n",
    "print(\"welcome to python class\")\n",
    "\n",
    "x=str(input('enter your name:'))\n",
    "print('name is', x)\n",
    "city=input('enter your city:')\n",
    "print('city is', city )\n",
    "age=int(input('enter your age:'))\n",
    "print('age is', age)                                \n",
    "rate=float(input('enter your rate:'))\n",
    "print('rate is', rate)      \n",
    "\n",
    "print(f\" name is {x},city is {city},age is {age},rate is {rate}\")\n",
    "\n",
    "print(\"name is\",'dinesh',\"city is\",\"nellore\",\"age is\",20,\"rate is\",5.50)"
   ]
  },
  {
   "cell_type": "code",
   "execution_count": 5,
   "id": "d91506b1",
   "metadata": {},
   "outputs": [
    {
     "name": "stdout",
     "output_type": "stream",
     "text": [
      " name is dinesh,city is nellore,age is 20,rate is 5.5\n",
      "name is dinesh city is nellore age is 20 rate is 5.5\n",
      "dinesh,nellore,20,5.5\n"
     ]
    }
   ],
   "source": [
    "x='dinesh'\n",
    "city='nellore'\n",
    "age=20\n",
    "rate=5.50\n",
    "\n",
    "\n",
    "print(f\" name is {x},city is {city},age is {age},rate is {rate}\")\n",
    "\n",
    "print(\"name is\",'dinesh',\"city is\",\"nellore\",\"age is\",20,\"rate is\",5.50)\n",
    "print(f\"{x},{city},{age},{rate}\")"
   ]
  },
  {
   "cell_type": "code",
   "execution_count": 6,
   "id": "ca03f3b6",
   "metadata": {},
   "outputs": [
    {
     "name": "stdout",
     "output_type": "stream",
     "text": [
      "A-B\n",
      "Hello!"
     ]
    }
   ],
   "source": [
    "print(\"A\", \"B\", sep=\"-\")  # Output: A-B\n",
    "print(\"Hello\", end=\"!\")   # Output: Hello!"
   ]
  },
  {
   "cell_type": "code",
   "execution_count": 7,
   "id": "43eacd88",
   "metadata": {},
   "outputs": [
    {
     "name": "stdout",
     "output_type": "stream",
     "text": [
      "Alice is 22 years old.\n"
     ]
    }
   ],
   "source": [
    "name = \"Alice\"\n",
    "age = 22\n",
    "print(f\"{name} is {age} years old.\")"
   ]
  },
  {
   "cell_type": "markdown",
   "id": "71250392",
   "metadata": {},
   "source": [
    "The 10 Data Types\n",
    "int (Integer)\n",
    "Whole numbers, e.g., 5, -10, 0\n",
    "Example:"
   ]
  },
  {
   "cell_type": "code",
   "execution_count": 8,
   "id": "e4ff5645",
   "metadata": {},
   "outputs": [
    {
     "name": "stdout",
     "output_type": "stream",
     "text": [
      "<class 'int'>\n"
     ]
    }
   ],
   "source": [
    "x = 10\n",
    "print(type(x))  # <class 'int'>"
   ]
  },
  {
   "cell_type": "markdown",
   "id": "9873f5d9",
   "metadata": {},
   "source": [
    "float (Floating Point)\n",
    "Numbers with decimals, e.g., 3.14, -0.5\n"
   ]
  },
  {
   "cell_type": "code",
   "execution_count": 9,
   "id": "9c99fa5e",
   "metadata": {},
   "outputs": [
    {
     "name": "stdout",
     "output_type": "stream",
     "text": [
      "<class 'float'>\n"
     ]
    }
   ],
   "source": [
    "y = 3.5\n",
    "print(type(y))  # <class 'float'>"
   ]
  },
  {
   "cell_type": "code",
   "execution_count": 10,
   "id": "59ee7b43",
   "metadata": {},
   "outputs": [
    {
     "name": "stdout",
     "output_type": "stream",
     "text": [
      "<class 'collections.OrderedDict'>\n"
     ]
    }
   ],
   "source": [
    "from collections import OrderedDict\n",
    "od = OrderedDict()\n",
    "od[\"apple\"] = 1\n",
    "od[\"banana\"] = 2\n",
    "print(type(od))  # <class 'collections.OrderedDict'>"
   ]
  },
  {
   "cell_type": "markdown",
   "id": "67c9f496",
   "metadata": {},
   "source": [
    " Operator Types in Python\n",
    " "
   ]
  },
  {
   "cell_type": "markdown",
   "id": "0a660f87",
   "metadata": {},
   "source": [
    "Arithmetic Operators\n",
    "Used for mathematical operations.\n",
    "+ (Addition), - (Subtraction), * (Multiplication), / (Division), // (Floor Division), % (Modulus), ** (Exponentiation)"
   ]
  },
  {
   "cell_type": "code",
   "execution_count": 11,
   "id": "8555eb83",
   "metadata": {},
   "outputs": [
    {
     "name": "stdout",
     "output_type": "stream",
     "text": [
      "13\n",
      "3.3333333333333335\n",
      "3\n",
      "1000\n"
     ]
    }
   ],
   "source": [
    "a = 10\n",
    "b = 3\n",
    "print(a + b)  # 13\n",
    "print(a / b)  # 3.333...\n",
    "print(a // b) # 3\n",
    "print(a ** b) # 1000"
   ]
  },
  {
   "cell_type": "code",
   "execution_count": 13,
   "id": "7bdeb4d9",
   "metadata": {},
   "outputs": [
    {
     "name": "stdout",
     "output_type": "stream",
     "text": [
      "1\n",
      "7\n",
      "6\n",
      "-6\n",
      "10\n",
      "2\n"
     ]
    }
   ],
   "source": [
    "a = 5  # 0101\n",
    "b = 3  # 0011\n",
    "print(a & b)  # 1\n",
    "print(a | b)  # 7\n",
    "print(a ^ b)  # 6\n",
    "print(~a)     # -6\n",
    "print(a << 1) # 10\n",
    "print(a >> 1) # 2"
   ]
  }
 ],
 "metadata": {
  "kernelspec": {
   "display_name": "Python 3",
   "language": "python",
   "name": "python3"
  },
  "language_info": {
   "codemirror_mode": {
    "name": "ipython",
    "version": 3
   },
   "file_extension": ".py",
   "mimetype": "text/x-python",
   "name": "python",
   "nbconvert_exporter": "python",
   "pygments_lexer": "ipython3",
   "version": "3.13.2"
  }
 },
 "nbformat": 4,
 "nbformat_minor": 5
}
