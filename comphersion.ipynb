{
 "cells": [
  {
   "cell_type": "code",
   "execution_count": null,
   "id": "e5d39ffe",
   "metadata": {},
   "outputs": [
    {
     "name": "stdout",
     "output_type": "stream",
     "text": [
      "16\n",
      "['orange', 'malleswari', 'nuvvu naku nachav', 'premichukundham ra', 'kallisundham ra', 'intlo illalu vanta intlo priyaralu', 'kushi', 'bhadri', 'badra', 'pandem kodi', 'chirutha', 'jhonny', 'og', 'panja', 'racha', 'nayaak']\n",
      "[6, 10, 17, 18, 15, 34, 5, 6, 5, 11, 8, 6, 2, 5, 5, 6]\n"
     ]
    }
   ],
   "source": [
    "movies=['orange','malleswari','nuvvu naku nachav','preminchukundham ra','kallisundham ra','intlo illalu vanta intlo priyaralu','kushi','bhadri','badra','pandem kodi','chirutha','jhonny','og','panja','racha','nayaak']\n",
    "movielen=[]\n",
    "for movie in movies:\n",
    "    size=len(movie)\n",
    "    movielen.append(size)\n",
    "print(len(movies))\n",
    "print(movies)\n",
    "print(movielen)"
   ]
  },
  {
   "cell_type": "code",
   "execution_count": 7,
   "id": "8d6ac6a9",
   "metadata": {},
   "outputs": [
    {
     "name": "stdout",
     "output_type": "stream",
     "text": [
      "['orange', 'malleswari', 'nuvvu naku nachav', 'premichukundham ra', 'kallisundham ra', 'intlo illalu vanta intlo priyaralu', 'kushi', 'bhadri', 'badra', 'pandem kodi', 'chirutha', 'jhonny', 'og', 'panja', 'racha', 'nayaak']\n",
      "[6, 10, 17, 18, 15, 34, 5, 6, 5, 11, 8, 6, 2, 5, 5, 6]\n"
     ]
    }
   ],
   "source": [
    "movielen=[len(movie) for movie in movies ]\n",
    "print(movies)\n",
    "print(movielen)"
   ]
  },
  {
   "cell_type": "code",
   "execution_count": 1,
   "id": "df3c71a8",
   "metadata": {},
   "outputs": [
    {
     "name": "stdout",
     "output_type": "stream",
     "text": [
      "['rrr', 'orange', 'oye', 'kushi', 'badhri', 'mirai', 'premalu', 'court', 'hit', 'paradise', 'peddi', 'chirutha', 'jalsa', 'salaar', 'liger', 'kingdom']\n",
      "['RRR', 'ORANGE', 'OYE', 'KUSHI', 'BADHRI', 'MIRAI', 'PREMALU', 'COURT', 'HIT', 'PARADISE', 'PEDDI', 'CHIRUTHA', 'JALSA', 'SALAAR', 'LIGER', 'KINGDOM']\n"
     ]
    }
   ],
   "source": [
    "movies=[\n",
    "    'rrr','orange','oye','kushi','badhri','mirai', 'premalu','court', 'hit','paradise','peddi','chirutha','jalsa','salaar','liger','kingdom'\n",
    "    ]\n",
    "movie_caps=[]\n",
    "for movie in movies:\n",
    "    name=movie.upper()\n",
    "    movie_caps.append(name)\n",
    "print(movies)\n",
    "print(movie_caps)    "
   ]
  },
  {
   "cell_type": "code",
   "execution_count": 2,
   "id": "14bb3a97",
   "metadata": {},
   "outputs": [
    {
     "name": "stdout",
     "output_type": "stream",
     "text": [
      "['rrr', 'orange', 'oye', 'kushi', 'badhri', 'mirai', 'premalu', 'court', 'hit', 'paradise', 'peddi', 'chirutha', 'jalsa', 'salaar', 'liger', 'kingdom']\n",
      "['RRR', 'ORANGE', 'OYE', 'KUSHI', 'BADHRI', 'MIRAI', 'PREMALU', 'COURT', 'HIT', 'PARADISE', 'PEDDI', 'CHIRUTHA', 'JALSA', 'SALAAR', 'LIGER', 'KINGDOM']\n"
     ]
    }
   ],
   "source": [
    "movie_caps=[movie.upper() for movie in movies]\n",
    "print(movies)\n",
    "print(movie_caps)\n"
   ]
  },
  {
   "cell_type": "code",
   "execution_count": 3,
   "id": "1dbe578d",
   "metadata": {},
   "outputs": [
    {
     "name": "stdout",
     "output_type": "stream",
     "text": [
      "['rrr', 'orange', 'oye', 'kushi', 'badhri', 'mirai', 'premalu', 'court', 'hit', 'paradise', 'peddi', 'chirutha', 'jalsa', 'salaar', 'liger', 'kingdom']\n",
      "['orange', 'oye', 'court', 'kingdom']\n"
     ]
    }
   ],
   "source": [
    "movies_with_o=[]\n",
    "for item in movies:\n",
    "    if 'O'in  item or 'o'in item:\n",
    "        movies_with_o.append(item)\n",
    "print(movies )\n",
    "print(movies_with_o )"
   ]
  },
  {
   "cell_type": "code",
   "execution_count": 4,
   "id": "d888713b",
   "metadata": {},
   "outputs": [
    {
     "name": "stdout",
     "output_type": "stream",
     "text": [
      "['rrr', 'orange', 'oye', 'kushi', 'badhri', 'mirai', 'premalu', 'court', 'hit', 'paradise', 'peddi', 'chirutha', 'jalsa', 'salaar', 'liger', 'kingdom']\n",
      "[['orange', 'oye', 'court', 'kingdom'], ['orange', 'oye', 'court', 'kingdom'], ['orange', 'oye', 'court', 'kingdom'], ['orange', 'oye', 'court', 'kingdom'], ['orange', 'oye', 'court', 'kingdom'], ['orange', 'oye', 'court', 'kingdom'], ['orange', 'oye', 'court', 'kingdom'], ['orange', 'oye', 'court', 'kingdom'], ['orange', 'oye', 'court', 'kingdom'], ['orange', 'oye', 'court', 'kingdom'], ['orange', 'oye', 'court', 'kingdom'], ['orange', 'oye', 'court', 'kingdom'], ['orange', 'oye', 'court', 'kingdom'], ['orange', 'oye', 'court', 'kingdom'], ['orange', 'oye', 'court', 'kingdom'], ['orange', 'oye', 'court', 'kingdom']]\n"
     ]
    }
   ],
   "source": [
    "movies_with_o=[ movies_with_o for item in movies]\n",
    "print(movies)\n",
    "print(movies_with_o)"
   ]
  },
  {
   "cell_type": "code",
   "execution_count": 5,
   "id": "ed238f0d",
   "metadata": {},
   "outputs": [
    {
     "name": "stdout",
     "output_type": "stream",
     "text": [
      "['rrr', 'orange', 'oye', 'kushi', 'badhri', 'mirai', 'premalu', 'court', 'hit', 'paradise', 'peddi', 'chirutha', 'jalsa', 'salaar', 'liger', 'kingdom']\n",
      "['kingdom', 'kingdom']\n"
     ]
    }
   ],
   "source": [
    "movies_with_k=[movie for item in movies  if 'k' in item or 'K' in item]\n",
    "print(movies)\n",
    "print(movies_with_k)"
   ]
  }
 ],
 "metadata": {
  "kernelspec": {
   "display_name": "Python 3",
   "language": "python",
   "name": "python3"
  },
  "language_info": {
   "codemirror_mode": {
    "name": "ipython",
    "version": 3
   },
   "file_extension": ".py",
   "mimetype": "text/x-python",
   "name": "python",
   "nbconvert_exporter": "python",
   "pygments_lexer": "ipython3",
   "version": "3.13.2"
  }
 },
 "nbformat": 4,
 "nbformat_minor": 5
}
