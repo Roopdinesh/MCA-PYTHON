{
 "cells": [
  {
   "cell_type": "code",
   "execution_count": 3,
   "id": "b05c0796",
   "metadata": {},
   "outputs": [
    {
     "name": "stdout",
     "output_type": "stream",
     "text": [
      "0\n",
      "1\n",
      "2\n",
      "3\n",
      "4\n",
      "5\n",
      "6\n",
      "7\n",
      "8\n",
      "9\n",
      "10\n",
      "11\n",
      "12\n",
      "13\n",
      "14\n",
      "15\n",
      "16\n",
      "17\n",
      "18\n",
      "19\n"
     ]
    }
   ],
   "source": [
    "for  i in range (20):\n",
    "    print(i)"
   ]
  },
  {
   "cell_type": "code",
   "execution_count": 1,
   "id": "d470fd60",
   "metadata": {},
   "outputs": [
    {
     "name": "stdout",
     "output_type": "stream",
     "text": [
      "1\n",
      "1\n",
      "1\n",
      "1\n",
      "1\n"
     ]
    }
   ],
   "source": [
    "for __ in range(5):\n",
    "    print(1)"
   ]
  },
  {
   "cell_type": "code",
   "execution_count": 4,
   "id": "863ee3c0",
   "metadata": {},
   "outputs": [
    {
     "name": "stdout",
     "output_type": "stream",
     "text": [
      "this is a statement\n",
      "this is a statement\n",
      "this is a statement\n",
      "this is a statement\n",
      "this is a statement\n"
     ]
    }
   ],
   "source": [
    "for __ in range(5):\n",
    "    print('this is a statement')"
   ]
  },
  {
   "cell_type": "code",
   "execution_count": 7,
   "id": "a4b1d14e",
   "metadata": {},
   "outputs": [
    {
     "name": "stdout",
     "output_type": "stream",
     "text": [
      "t\n",
      "h\n",
      "i\n",
      "s\n",
      " \n",
      "i\n",
      "s\n",
      " \n",
      "t\n",
      "h\n",
      "e\n",
      " \n",
      "s\n",
      "t\n",
      "a\n",
      "t\n",
      "e\n",
      "m\n",
      "e\n",
      "n\n",
      "t\n"
     ]
    }
   ],
   "source": [
    "x='this is the statement'\n",
    "for i in x:\n",
    "    print(i)\n",
    "    \n",
    "#for i in x:\n",
    "    #print(x)"
   ]
  },
  {
   "cell_type": "code",
   "execution_count": 9,
   "id": "96bffde0",
   "metadata": {},
   "outputs": [
    {
     "name": "stdout",
     "output_type": "stream",
     "text": [
      "1\n",
      "2\n",
      "3\n",
      "4\n",
      "5\n",
      "6\n",
      "7\n",
      "8\n",
      "9\n",
      "10\n",
      "11\n",
      "12\n",
      "13\n",
      "14\n",
      "15\n"
     ]
    }
   ],
   "source": [
    "for x in range(1,16):\n",
    "    print(x)"
   ]
  },
  {
   "cell_type": "code",
   "execution_count": 10,
   "id": "3c1ec542",
   "metadata": {},
   "outputs": [
    {
     "name": "stdout",
     "output_type": "stream",
     "text": [
      "5\n",
      "6\n",
      "7\n",
      "8\n",
      "9\n"
     ]
    }
   ],
   "source": [
    "a=5\n",
    "b=10\n",
    "for i in range(a,b):\n",
    "    print(i)"
   ]
  },
  {
   "cell_type": "code",
   "execution_count": 11,
   "id": "768d3743",
   "metadata": {},
   "outputs": [
    {
     "name": "stdout",
     "output_type": "stream",
     "text": [
      "50 70 50\n",
      "50 70 51\n",
      "50 70 52\n",
      "50 70 53\n",
      "50 70 54\n",
      "50 70 55\n",
      "50 70 56\n",
      "50 70 57\n",
      "50 70 58\n",
      "50 70 59\n",
      "50 70 60\n",
      "50 70 61\n",
      "50 70 62\n",
      "50 70 63\n",
      "50 70 64\n",
      "50 70 65\n",
      "50 70 66\n",
      "50 70 67\n",
      "50 70 68\n",
      "50 70 69\n"
     ]
    }
   ],
   "source": [
    "x=int(input('enter a start'))\n",
    "y=int(input('enter a stop'))\n",
    "\n",
    "for l in range(x,y):\n",
    "    print(x,y,l)"
   ]
  },
  {
   "cell_type": "code",
   "execution_count": 12,
   "id": "b9b120f5",
   "metadata": {},
   "outputs": [
    {
     "name": "stdout",
     "output_type": "stream",
     "text": [
      "12*1=12\n",
      "12*1=12\n",
      "12*1=12\n",
      "12*1=12\n",
      "12*1=12\n",
      "12*1=12\n",
      "12*1=12\n",
      "12*1=12\n",
      "12*1=12\n",
      "12*1=12\n"
     ]
    }
   ],
   "source": [
    "size=10\n",
    "for l in range(1,size+1):\n",
    "    print(f\"12*{1}={12*1}\")"
   ]
  },
  {
   "cell_type": "markdown",
   "id": "07afda38",
   "metadata": {},
   "source": [
    "AGGREGATION \n"
   ]
  },
  {
   "cell_type": "code",
   "execution_count": null,
   "id": "74a1fa95",
   "metadata": {},
   "outputs": [],
   "source": [
    "'''x=20\n",
    "while x>10:\n",
    "    print(x)'''"
   ]
  },
  {
   "cell_type": "code",
   "execution_count": 4,
   "id": "4713b752",
   "metadata": {},
   "outputs": [
    {
     "name": "stdout",
     "output_type": "stream",
     "text": [
      "145\n"
     ]
    }
   ],
   "source": [
    "total=0\n",
    "for num in range(10,20):\n",
    "    total=total+num\n",
    "print(total)"
   ]
  },
  {
   "cell_type": "code",
   "execution_count": 3,
   "id": "0e282271",
   "metadata": {},
   "outputs": [
    {
     "name": "stdout",
     "output_type": "stream",
     "text": [
      "155\n"
     ]
    }
   ],
   "source": [
    "total=10\n",
    "for num in range(10,20):\n",
    "    total=total+num\n",
    "print(total)"
   ]
  },
  {
   "cell_type": "code",
   "execution_count": 2,
   "id": "7e38dcc0",
   "metadata": {},
   "outputs": [
    {
     "name": "stdout",
     "output_type": "stream",
     "text": [
      "11\n",
      "22\n",
      "34\n",
      "47\n",
      "61\n",
      "76\n",
      "92\n",
      "109\n",
      "127\n",
      "146\n"
     ]
    }
   ],
   "source": [
    "total=1\n",
    "for num in range(10,20):\n",
    "    total+=num\n",
    "    print(total)"
   ]
  },
  {
   "cell_type": "code",
   "execution_count": 5,
   "id": "bc3bafb5",
   "metadata": {},
   "outputs": [
    {
     "name": "stdout",
     "output_type": "stream",
     "text": [
      "670442572800\n"
     ]
    }
   ],
   "source": [
    "total=2\n",
    "for num in range(10,20):\n",
    "    total=total*num\n",
    "print(total)"
   ]
  },
  {
   "cell_type": "code",
   "execution_count": 7,
   "id": "465ada31",
   "metadata": {},
   "outputs": [
    {
     "name": "stdout",
     "output_type": "stream",
     "text": [
      "10\n",
      "110\n",
      "1320\n",
      "17160\n",
      "240240\n",
      "3603600\n",
      "57657600\n",
      "980179200\n",
      "17643225600\n",
      "335221286400\n"
     ]
    }
   ],
   "source": [
    "total=1\n",
    "for num in range(10,20):\n",
    "    total=total*num\n",
    "    print(total)"
   ]
  },
  {
   "cell_type": "code",
   "execution_count": 8,
   "id": "b897c29a",
   "metadata": {},
   "outputs": [
    {
     "name": "stdout",
     "output_type": "stream",
     "text": [
      "335221286400\n"
     ]
    }
   ],
   "source": [
    "total=1\n",
    "for num in range(10,20):\n",
    "    total=total*num\n",
    "print(total)"
   ]
  },
  {
   "cell_type": "code",
   "execution_count": 13,
   "id": "a5a98677",
   "metadata": {},
   "outputs": [
    {
     "name": "stdout",
     "output_type": "stream",
     "text": [
      "53\n"
     ]
    }
   ],
   "source": [
    "nums=[5,11,2,53,10,33]\n",
    "m=0\n",
    "for num in nums:\n",
    "    if num>m:\n",
    "        m=num\n",
    "print(m)\n"
   ]
  },
  {
   "cell_type": "code",
   "execution_count": null,
   "id": "d92f6a4a",
   "metadata": {},
   "outputs": [
    {
     "name": "stdout",
     "output_type": "stream",
     "text": [
      "6\n"
     ]
    }
   ],
   "source": [
    "nums=[5,10,8,15,9,15]\n",
    "print(len(nums))\n",
    "\n"
   ]
  },
  {
   "cell_type": "code",
   "execution_count": 31,
   "id": "af34e8b6",
   "metadata": {},
   "outputs": [
    {
     "name": "stdout",
     "output_type": "stream",
     "text": [
      "totalcount is :1\n",
      "totalcount is :2\n",
      "totalcount is :3\n",
      "totalcount is :4\n",
      "totalcount is :5\n"
     ]
    }
   ],
   "source": [
    "\n",
    "nums=[25,26,27,28,29,30,32,33,34,35,36,37,38,39,40]\n",
    "count=0\n",
    "for i in nums:\n",
    "    if i%3==0:\n",
    "        count=count+1\n",
    "        print( f'totalcount is :{count}')"
   ]
  },
  {
   "cell_type": "code",
   "execution_count": 26,
   "id": "536cd4ea",
   "metadata": {},
   "outputs": [
    {
     "name": "stdout",
     "output_type": "stream",
     "text": [
      "27\n",
      "57\n",
      "90\n",
      "126\n",
      "165\n"
     ]
    }
   ],
   "source": [
    "\n",
    "nums=[25,26,27,28,29,30,32,33,34,35,36,37,38,39,40]\n",
    "count=0\n",
    "for i in nums:\n",
    "    if i%3==0:\n",
    "        count=count+i\n",
    "        print(count)"
   ]
  },
  {
   "cell_type": "code",
   "execution_count": 32,
   "id": "b557ed5e",
   "metadata": {},
   "outputs": [
    {
     "name": "stdout",
     "output_type": "stream",
     "text": [
      "1\n",
      "2\n",
      "3\n",
      "4\n",
      "5\n",
      "6\n",
      "7\n",
      "8\n"
     ]
    }
   ],
   "source": [
    "\n",
    "nums=[25,26,27,28,29,30,32,33,34,35,36,37,38,39,40]\n",
    "count=0\n",
    "for i in nums:\n",
    "    if i%2==0:\n",
    "        count=count+1\n",
    "        print(count)"
   ]
  },
  {
   "cell_type": "code",
   "execution_count": 28,
   "id": "10e44188",
   "metadata": {},
   "outputs": [
    {
     "name": "stdout",
     "output_type": "stream",
     "text": [
      "1\n",
      "2\n",
      "3\n",
      "4\n",
      "5\n"
     ]
    }
   ],
   "source": [
    "\n",
    "nums=[25,26,27,28,29,30,32,33,34,35,36,37,38,39,40]\n",
    "count=0\n",
    "for i in nums:\n",
    "    if i%3==0:\n",
    "        count=count+1\n",
    "        print(count)"
   ]
  },
  {
   "cell_type": "code",
   "execution_count": 33,
   "id": "165b5d89",
   "metadata": {},
   "outputs": [
    {
     "name": "stdout",
     "output_type": "stream",
     "text": [
      "10\n"
     ]
    }
   ],
   "source": [
    "movies=['rrr','orange','jalsa','og','peddi','julay','bunny','sye','salaar','svsc']\n",
    "print(len(movies))"
   ]
  },
  {
   "cell_type": "code",
   "execution_count": 2,
   "id": "28f0590f",
   "metadata": {},
   "outputs": [
    {
     "name": "stdout",
     "output_type": "stream",
     "text": [
      "1 1 1 1 1 \n",
      "1 1 1 1 1 \n",
      "1 1 1 1 1 \n",
      "1 1 1 1 1 \n",
      "1 1 1 1 1 \n"
     ]
    }
   ],
   "source": [
    "n=6\n",
    "for i in range(1,n):\n",
    "    for j in range(1,n):\n",
    "        print(1,end=' ')\n",
    "    print()"
   ]
  },
  {
   "cell_type": "code",
   "execution_count": 3,
   "id": "9a1e13a2",
   "metadata": {},
   "outputs": [
    {
     "name": "stdout",
     "output_type": "stream",
     "text": [
      "(i)*1\n",
      "(i)*10\n",
      "(i)*90\n",
      "(i)*720\n",
      "(i)*5040\n",
      "(i)*30240\n",
      "(i)*151200\n",
      "(i)*604800\n",
      "(i)*1814400\n",
      "(i)*3628800\n",
      "3628800\n"
     ]
    }
   ],
   "source": [
    "num=10\n",
    "fact=1\n",
    "#we can use backward or forward loop\n",
    "for i in range(num,0,-1):\n",
    "    print(f'(i)*{fact}')\n",
    "    fact=fact*i\n",
    "print(fact)"
   ]
  },
  {
   "cell_type": "code",
   "execution_count": 4,
   "id": "e4530e61",
   "metadata": {},
   "outputs": [
    {
     "name": "stdout",
     "output_type": "stream",
     "text": [
      "10*1\n",
      "9*10\n",
      "8*90\n",
      "7*720\n",
      "6*5040\n",
      "5*30240\n",
      "4*151200\n",
      "3*604800\n",
      "2*1814400\n",
      "1*3628800\n",
      "3628800\n"
     ]
    }
   ],
   "source": [
    "\n",
    "num=10\n",
    "fact=1\n",
    "#we can use backward or forward loop\n",
    "for i in range(num,0,-1):\n",
    "    print(f'{i}*{fact}')\n",
    "    fact=fact * i\n",
    "print(fact)"
   ]
  },
  {
   "cell_type": "code",
   "execution_count": 5,
   "id": "1b943c66",
   "metadata": {},
   "outputs": [
    {
     "name": "stdout",
     "output_type": "stream",
     "text": [
      "1,2,4,5,7,8,10,11,13,14,16,17,19,20,22,23,"
     ]
    }
   ],
   "source": [
    "#skip every value divisible by 3\n",
    "\n",
    "for i in range(1,25):\n",
    "    if i%3==0:\n",
    "        continue\n",
    "    print(i,end=',')"
   ]
  },
  {
   "cell_type": "code",
   "execution_count": 6,
   "id": "07659f30",
   "metadata": {},
   "outputs": [
    {
     "name": "stdout",
     "output_type": "stream",
     "text": [
      "3,6,9,12,15,18,21,24,"
     ]
    }
   ],
   "source": [
    "for i in range(1,25):\n",
    "    if i%3==0:\n",
    "     print(i,end=',')"
   ]
  },
  {
   "cell_type": "code",
   "execution_count": 7,
   "id": "ed5ac896",
   "metadata": {},
   "outputs": [
    {
     "name": "stdout",
     "output_type": "stream",
     "text": [
      "1 2 4 5 7 8 10 11 13 14 16 17 19 20 22 23 "
     ]
    }
   ],
   "source": [
    "for i in range(1,25):\n",
    "    if i%3==0:\n",
    "        continue\n",
    "    print(i,end=' ')"
   ]
  },
  {
   "cell_type": "code",
   "execution_count": 8,
   "id": "1ddcd0b8",
   "metadata": {},
   "outputs": [
    {
     "name": "stdout",
     "output_type": "stream",
     "text": [
      "1  2  3  3  1  2  5  6  7  2  2  1  "
     ]
    }
   ],
   "source": [
    "data=[1,2,0,3,3,0,1,2,0,5,6,7,2,0,2,1]\n",
    "for i in data:\n",
    "    if i==0:\n",
    "        continue\n",
    "    print(i,end=\"  \")"
   ]
  },
  {
   "cell_type": "code",
   "execution_count": 9,
   "id": "7af7fa45",
   "metadata": {},
   "outputs": [
    {
     "name": "stdout",
     "output_type": "stream",
     "text": [
      "1  2  "
     ]
    }
   ],
   "source": [
    "data=[1,2,0,3,3,0,1,2,0,5,6,7,2,0,2,1]\n",
    "for i in data:\n",
    "    if i==0:\n",
    "        break\n",
    "    print(i,end=\"  \")"
   ]
  },
  {
   "cell_type": "code",
   "execution_count": 10,
   "id": "275389e3",
   "metadata": {},
   "outputs": [
    {
     "name": "stdout",
     "output_type": "stream",
     "text": [
      "1  2  0  3  3  0  1  2  0  5  6  "
     ]
    }
   ],
   "source": [
    "data=[1,2,0,3,3,0,1,2,0,5,6,7,2,0,2,1]\n",
    "for i in data:\n",
    "    if i==7:\n",
    "       break\n",
    "    print(i,end=\"  \")"
   ]
  },
  {
   "cell_type": "code",
   "execution_count": 12,
   "id": "fb28e226",
   "metadata": {},
   "outputs": [
    {
     "name": "stdout",
     "output_type": "stream",
     "text": [
      "enter 0 to stop the loop\n",
      "total=140\n"
     ]
    }
   ],
   "source": [
    "#ADD ALL VALUES ENTERED BY USER TILL HE TYPES 0\n",
    "\n",
    "total=0\n",
    "print('enter 0 to stop the loop')\n",
    "for i in range(100):\n",
    "    value=int(input('enter a value'))\n",
    "    if value==0:\n",
    "        break\n",
    "    total+=value\n",
    "print(f'total={total}') "
   ]
  }
 ],
 "metadata": {
  "kernelspec": {
   "display_name": "Python 3",
   "language": "python",
   "name": "python3"
  },
  "language_info": {
   "codemirror_mode": {
    "name": "ipython",
    "version": 3
   },
   "file_extension": ".py",
   "mimetype": "text/x-python",
   "name": "python",
   "nbconvert_exporter": "python",
   "pygments_lexer": "ipython3",
   "version": "3.13.2"
  }
 },
 "nbformat": 4,
 "nbformat_minor": 5
}
