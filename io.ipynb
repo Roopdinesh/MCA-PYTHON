{
 "cells": [
  {
   "cell_type": "code",
   "execution_count": 1,
   "id": "411c5a5a",
   "metadata": {},
   "outputs": [
    {
     "name": "stdout",
     "output_type": "stream",
     "text": [
      "500\n",
      "20\n",
      "10\n",
      "1000.0\n"
     ]
    }
   ],
   "source": [
    "p=500\n",
    "r=20\n",
    "t=10\n",
    "si=p*r*t/100\n",
    "\n",
    "print(p)\n",
    "print(r)\n",
    "print(t)\n",
    "print(si)"
   ]
  },
  {
   "cell_type": "code",
   "execution_count": null,
   "id": "83350836",
   "metadata": {},
   "outputs": [],
   "source": [
    "p=float(input('enter your amount'))\n",
    "r=20\n",
    "t=10\n",
    "\n",
    "PRINT(r)\n",
    "PRINT(t)\n",
    "print(p)"
   ]
  },
  {
   "cell_type": "markdown",
   "id": "946d4dae",
   "metadata": {},
   "source": [
    "FORMATTING THE OUTPUT"
   ]
  },
  {
   "cell_type": "code",
   "execution_count": null,
   "id": "44111f32",
   "metadata": {},
   "outputs": [],
   "source": [
    "print(\"this is an example \")\n",
    "print(\"one\",\"two\",\"three\")"
   ]
  },
  {
   "cell_type": "code",
   "execution_count": null,
   "id": "fa654515",
   "metadata": {},
   "outputs": [],
   "source": [
    "print('ram','krishna','hari')\n",
    "print(1,2,3,4)\n",
    "print('dinesh',\"krish\",'venky',sep=\",\")\n",
    "print('dinesh',\"krish\",'venky',sep='➡️😊')\n",
    "print('dinesh',\"krish\",'venky',sep='\\n')\n",
    "print('dinesh',\"krish\",'venky',sep=\"hello🙌\")\n",
    "print('this is dinesh',\"hello🙌\")"
   ]
  },
  {
   "cell_type": "code",
   "execution_count": 2,
   "id": "a65db850",
   "metadata": {},
   "outputs": [
    {
     "name": "stdout",
     "output_type": "stream",
     "text": [
      "ram krishna hari\n",
      "1 2 3 4\n",
      "dinesh,krish,venky\n",
      "dinesh➡️😊krish➡️😊venky\n",
      "dinesh\n",
      "krish\n",
      "venky\n",
      "dineshhello🙌krishhello🙌venky\n",
      "this is dinesh hello🙌\n"
     ]
    }
   ],
   "source": [
    "print('ram','krishna','hari')\n",
    "print(1,2,3,4)\n",
    "print('dinesh',\"krish\",'venky',sep=\",\")\n",
    "print('dinesh',\"krish\",'venky',sep='➡️😊')\n",
    "print('dinesh',\"krish\",'venky',sep='\\n')\n",
    "print('dinesh',\"krish\",'venky',sep=\"hello🙌\")\n",
    "print('this is dinesh',\"hello🙌\")"
   ]
  },
  {
   "cell_type": "code",
   "execution_count": 1,
   "id": "b1d1e814",
   "metadata": {},
   "outputs": [
    {
     "name": "stdout",
     "output_type": "stream",
     "text": [
      "1 2 3 4 5\n",
      "1234\n",
      "1,2,3,4,5,6\n",
      "1➡️2➡️3➡️4➡️5\n",
      "1\n",
      "2\n",
      "3\n",
      "4\n",
      "5\n",
      "1hello world2hello world3hello world4hello world5\n"
     ]
    }
   ],
   "source": [
    "print(1,2,3,4,5)\n",
    "print(1,2,3,4,sep=\"\")\n",
    "print(1,2,3,4,5,6,sep=\",\")\n",
    "print(1,2,3,4,5,sep='➡️')\n",
    "print(1,2,3,4,5,sep=\"\\n\")\n",
    "print(1,2,3,4,5,sep='hello world')"
   ]
  },
  {
   "cell_type": "code",
   "execution_count": 1,
   "id": "2827b3bd",
   "metadata": {},
   "outputs": [
    {
     "name": "stdout",
     "output_type": "stream",
     "text": [
      "100\n",
      "20\n",
      "120\n",
      "<class 'int'>\n",
      "answer is 120\n",
      "answer120\n",
      "answer 120\n",
      "100+20=120\n",
      "answer is 120\n"
     ]
    }
   ],
   "source": [
    "a=100\n",
    "b=20\n",
    "\n",
    "c=a+b\n",
    "print(a)\n",
    "print(b)\n",
    "print(c)\n",
    "print(type(c))\n",
    "print('answer is',c)\n",
    "print(\"answer\"+str(c))\n",
    "print('answer %d'%c)\n",
    "print(f\"{a}+{b}={c}\")\n",
    "print(f\"answer is {c}\")"
   ]
  },
  {
   "cell_type": "code",
   "execution_count": 2,
   "id": "e141249a",
   "metadata": {},
   "outputs": [
    {
     "name": "stdout",
     "output_type": "stream",
     "text": [
      "True\n",
      "False\n",
      "True\n"
     ]
    }
   ],
   "source": [
    "a = [1, 2]\n",
    "b = a\n",
    "c = [1, 2]\n",
    "print(a is b)      # True\n",
    "print(a is c)      # False\n",
    "print(a == c)      # True"
   ]
  },
  {
   "cell_type": "code",
   "execution_count": 3,
   "id": "6f4e7451",
   "metadata": {},
   "outputs": [
    {
     "name": "stdout",
     "output_type": "stream",
     "text": [
      "True\n",
      "True\n"
     ]
    }
   ],
   "source": [
    "nums = [1, 2, 3]\n",
    "print(2 in nums)      # True\n",
    "print(4 not in nums)  # True"
   ]
  },
  {
   "cell_type": "code",
   "execution_count": null,
   "id": "92d12643",
   "metadata": {},
   "outputs": [],
   "source": [
    "nums = [1, 2, 3]\n",
    "print(2 in nums)\n",
    "print(3 in nums)"
   ]
  },
  {
   "cell_type": "code",
   "execution_count": null,
   "id": "8836829c",
   "metadata": {},
   "outputs": [],
   "source": [
    "CONDITIONAL STATEMENTS:\n",
    "    \n",
    "    IN PYTHON THERE ARE 4 TYPES \n",
    "    "
   ]
  },
  {
   "cell_type": "code",
   "execution_count": 2,
   "id": "23ce470b",
   "metadata": {},
   "outputs": [
    {
     "name": "stdout",
     "output_type": "stream",
     "text": [
      "you see a apple seller\n",
      "you dont purchase apples\n"
     ]
    }
   ],
   "source": [
    "print('you see a apple seller')\n",
    "q = input('do you like apples ?')\n",
    "\n",
    "if q == 'yes':\n",
    "    print('purchase 2kg of apples')\n",
    "if q == 'no' :\n",
    "    print('you dont purchase apples')\n",
    "       "
   ]
  },
  {
   "cell_type": "code",
   "execution_count": 2,
   "id": "5336035a",
   "metadata": {},
   "outputs": [
    {
     "name": "stdout",
     "output_type": "stream",
     "text": [
      "total salary is 59800.0\n"
     ]
    }
   ],
   "source": [
    "salary = 52000\n",
    "if salary > 50000:\n",
    "    da = .15          # 15% dearness allowance\n",
    "    total = salary + salary * da\n",
    "    print(f\"total salary is {total}\")\n",
    "    "
   ]
  },
  {
   "cell_type": "code",
   "execution_count": 6,
   "id": "9519ea98",
   "metadata": {},
   "outputs": [
    {
     "name": "stdout",
     "output_type": "stream",
     "text": [
      "total salary is 48000\n"
     ]
    }
   ],
   "source": [
    "salary = 48000\n",
    "da=0\n",
    "if salary > 50000:\n",
    "    da = .15          # 15% dearness allowance\n",
    "total = salary + salary * da\n",
    "print(f\"total salary is {total}\")"
   ]
  },
  {
   "cell_type": "code",
   "execution_count": 13,
   "id": "4619c8f5",
   "metadata": {},
   "outputs": [
    {
     "name": "stdout",
     "output_type": "stream",
     "text": [
      "total salary is 52000\n"
     ]
    }
   ],
   "source": [
    "salary = 52000\n",
    "da=0\n",
    "if salary > 60000:\n",
    "    da = .15          # 15% dearness allowance\n",
    "    total = salary + salary * da\n",
    "else:\n",
    "    total=salary\n",
    "    print(f\"total salary is {total}\")"
   ]
  },
  {
   "cell_type": "code",
   "execution_count": 17,
   "id": "e7ff72bb",
   "metadata": {},
   "outputs": [
    {
     "name": "stdout",
     "output_type": "stream",
     "text": [
      "total salary is 48300.0\n"
     ]
    }
   ],
   "source": [
    "salary = 42000\n",
    "da=0\n",
    "if salary < 50000:\n",
    "    da = .15          # 15% dearness allowance\n",
    "    total = salary + salary * da\n",
    "    print(f\"total salary is {total}\")\n",
    "else:\n",
    "   total=salary\n",
    "   print(f\"total salary is {total}\")"
   ]
  },
  {
   "cell_type": "code",
   "execution_count": 18,
   "id": "05dafc66",
   "metadata": {},
   "outputs": [
    {
     "name": "stdout",
     "output_type": "stream",
     "text": [
      "total salary is 52000\n"
     ]
    }
   ],
   "source": [
    "salary = 52000\n",
    "da=0\n",
    "if salary > 60000:\n",
    "    da = .15          # 15% dearness allowance\n",
    "    total = salary + salary * da\n",
    "    print(f\"total salary is {total}\")\n",
    "else:\n",
    "    total=salary\n",
    "    print(f\"total salary is {total}\")\n"
   ]
  },
  {
   "cell_type": "code",
   "execution_count": null,
   "id": "091754e4",
   "metadata": {},
   "outputs": [
    {
     "name": "stdout",
     "output_type": "stream",
     "text": [
      "100\n"
     ]
    }
   ],
   "source": [
    "'''x=int(input('enter a number'))\n",
    "y=int(input('enter a fees'))'''\n",
    "\n",
    "x=int(input(200))\n",
    "y=int(input(100))\n",
    "if x>y:\n",
    "     a=x-y\n",
    "     print(a)\n",
    "else:\n",
    "        a=y-x\n",
    "        print(a)"
   ]
  },
  {
   "cell_type": "code",
   "execution_count": 24,
   "id": "4e568c97",
   "metadata": {},
   "outputs": [
    {
     "name": "stdout",
     "output_type": "stream",
     "text": [
      "50\n"
     ]
    }
   ],
   "source": [
    "x=int(input('enter a number'))\n",
    "y=int(input('enter a fees'))\n",
    "\n",
    "\n",
    "if x>y:\n",
    "     a=x-y\n",
    "     print(a)\n",
    "else:\n",
    "        a=y-x\n",
    "        print(a)"
   ]
  },
  {
   "cell_type": "code",
   "execution_count": 32,
   "id": "8e96c4a0",
   "metadata": {},
   "outputs": [
    {
     "name": "stdout",
     "output_type": "stream",
     "text": [
      "short movie name: peddi\n",
      "the end\n"
     ]
    }
   ],
   "source": [
    "name=input('enter your fav movie ')\n",
    "if len(name)>10:\n",
    "    print(f\"long movie name: {name}\")\n",
    "else:\n",
    "    print(f\"short movie name: {name}\")\n",
    "print(\"the end\")"
   ]
  },
  {
   "cell_type": "code",
   "execution_count": 1,
   "id": "b4d357b9",
   "metadata": {},
   "outputs": [
    {
     "name": "stdout",
     "output_type": "stream",
     "text": [
      "long movie name: the paradise\n",
      "the end\n"
     ]
    }
   ],
   "source": [
    "name=input('enter your fav movie ')\n",
    "if len(name)>10:\n",
    "    print(f\"long movie name: {name}\")\n",
    "else:\n",
    "    print(f\"short movie name: {name}\")\n",
    "print(\"the end\")"
   ]
  },
  {
   "cell_type": "markdown",
   "id": "8b28be03",
   "metadata": {},
   "source": [
    "HANDLIG MULTIPLE CONDITIONS USEING if-elif\n"
   ]
  },
  {
   "cell_type": "code",
   "execution_count": 3,
   "id": "d13cc3c2",
   "metadata": {},
   "outputs": [
    {
     "name": "stdout",
     "output_type": "stream",
     "text": [
      "what is the capital of india?\n",
      "your are correct\n"
     ]
    }
   ],
   "source": [
    "print('what is the capital of india?')\n",
    "answer=input('answer:')\n",
    "if answer=='delhi':\n",
    "    print( 'your are correct')\n",
    "if answer=='new delhi':\n",
    "    print(\"your are a correct\")\n",
    "if answer=='i dont know':\n",
    "    print('u must be sleeping')"
   ]
  },
  {
   "cell_type": "code",
   "execution_count": 8,
   "id": "c634081a",
   "metadata": {},
   "outputs": [
    {
     "name": "stdout",
     "output_type": "stream",
     "text": [
      "your grade :A\n"
     ]
    }
   ],
   "source": [
    "marks=int(input('enter your total marks in 10th :'))\n",
    "if marks>90:\n",
    "    print('your grade :A')\n",
    "elif marks >75: \n",
    "    print('your grade:B')\n",
    "elif marks>60:\n",
    "    print('your grade :c')\n",
    "elif marks ==35:\n",
    "    print('your grade :d')\n",
    "else:\n",
    "    print('your a fail😒')\n",
    "    \n",
    "    "
   ]
  },
  {
   "cell_type": "markdown",
   "id": "e8d42055",
   "metadata": {},
   "source": [
    "NESTED IF"
   ]
  },
  {
   "cell_type": "code",
   "execution_count": null,
   "id": "0a0284b6",
   "metadata": {},
   "outputs": [
    {
     "name": "stdout",
     "output_type": "stream",
     "text": [
      "your grade :A\n",
      "your grade:B\n",
      "your grade :c\n",
      "your a fail😒\n"
     ]
    }
   ],
   "source": [
    "marks=int(input('enter your total marks in 10th :'))\n",
    "if marks>90:\n",
    "    print('your grade :A')\n",
    "if marks >75: \n",
    "    print('your grade:B')                                        \n",
    "if marks>60:\n",
    "    print('your grade :c')\n",
    "if marks ==35:\n",
    "    print('your grade :d')\n",
    "else:\n",
    "    print('your a fail😒')"
   ]
  },
  {
   "cell_type": "code",
   "execution_count": 9,
   "id": "003fabb5",
   "metadata": {},
   "outputs": [
    {
     "name": "stdout",
     "output_type": "stream",
     "text": [
      "your grade :b\n"
     ]
    }
   ],
   "source": [
    "marks=int(input('enter your total marks in 10th:'))\n",
    "if marks>90 and marks <=100:\n",
    "    print('your grade :A')\n",
    "elif marks>75 and marks<=90:\n",
    "    print('your grade :b')\n",
    "elif marks >60 and marks<=75:\n",
    "    print('your grade:c')\n",
    "elif marks>40 and marks<=60:\n",
    "    print('your grade :d')\n",
    "else:\n",
    "    print( ' your a failed☠️😊') "
   ]
  },
  {
   "cell_type": "code",
   "execution_count": 12,
   "id": "138a35e7",
   "metadata": {},
   "outputs": [
    {
     "name": "stdout",
     "output_type": "stream",
     "text": [
      "your grade :b\n"
     ]
    }
   ],
   "source": [
    "marks=int(input('enter your total marks in 10th:'))\n",
    "if marks>90 and marks <=100:\n",
    "    print('your grade :A')\n",
    "if marks>75 and marks<=90:\n",
    "    print('your grade :b')\n",
    "if marks >60 and marks<=75:\n",
    "    print('your grade:c')\n",
    "if marks>40 and marks<=60:\n",
    "    print('your grade :d')\n"
   ]
  },
  {
   "cell_type": "code",
   "execution_count": 13,
   "id": "c4e3e33b",
   "metadata": {},
   "outputs": [
    {
     "name": "stdout",
     "output_type": "stream",
     "text": [
      "frnd salary =>80000\n",
      "frnd salary total=>64000.0\n"
     ]
    }
   ],
   "source": [
    "salary=int(input('enter your frnd salary:'))\n",
    "if salary>10000:\n",
    "    total=salary-salary*.2\n",
    "elif salary>80000:\n",
    "    total=salary-salary*.1\n",
    "elif salary>70000:\n",
    "    total=salary-salary*.05\n",
    "else:\n",
    "    total=salary+10000\n",
    "    \n",
    "print(f\"frnd salary =>{salary}\")\n",
    "print(f\"frnd salary total=>{total}\")\n",
    "\n"
   ]
  },
  {
   "cell_type": "markdown",
   "id": "565a2054",
   "metadata": {},
   "source": [
    "MATH CASE"
   ]
  },
  {
   "cell_type": "code",
   "execution_count": 2,
   "id": "0b5ec2cc",
   "metadata": {},
   "outputs": [
    {
     "name": "stdout",
     "output_type": "stream",
     "text": [
      "it is a option➡️\n"
     ]
    }
   ],
   "source": [
    "day=input('what is the day today?')\n",
    "match day:\n",
    "    case \"monday\":print('today is a monday!boring')\n",
    "    case \"tuesday\":print('today is a tuesday')\n",
    "    case \"sunday\":print('today is a holiday')\n",
    "    case 'saturday':print('today is a devotinal day' )\n",
    "    case default :print( 'it is a option➡️')"
   ]
  },
  {
   "cell_type": "code",
   "execution_count": 3,
   "id": "57d18a9a",
   "metadata": {},
   "outputs": [
    {
     "name": "stdout",
     "output_type": "stream",
     "text": [
      "today is a devotinal day\n"
     ]
    }
   ],
   "source": [
    "day=input('what is the day today?')\n",
    "match day:\n",
    "    case \"monday\":print('today is a monday!boring')\n",
    "    case \"tuesday\":print('today is a tuesday')\n",
    "    case \"sunday\":print('today is a holiday')\n",
    "    case 'saturday':print('today is a devotinal day' )"
   ]
  },
  {
   "cell_type": "code",
   "execution_count": 9,
   "id": "bacdff91",
   "metadata": {},
   "outputs": [
    {
     "name": "stdout",
     "output_type": "stream",
     "text": [
      "tell me some movies \n",
      "bhahubali,war\n"
     ]
    }
   ],
   "source": [
    "print('tell me some movies ')\n",
    "gener=input('what gener do you like?')\n",
    "match gener:\n",
    "    case 'action':\n",
    "        print('bhahubali,war')\n",
    "    case 'comeercial':\n",
    "        print('nayaak,racha,game changer,pushpa')\n",
    "    case 'comedy':\n",
    "        print('malleswari,bruceelee')\n",
    "    case 'thriller':\n",
    "        print('Dna,raksahsudu')\n",
    "    case 'historical':\n",
    "        print('magadheera,bhahubali2,rangastalam,chaava')\n",
    "    case default:\n",
    "        print('you can watch your wish movies ')\n",
    "    "
   ]
  },
  {
   "cell_type": "markdown",
   "id": "9d1952f0",
   "metadata": {},
   "source": [
    "\n",
    "\n",
    "Nested if statement: \n",
    "-->if with in the if.\n",
    "\n",
    "syntax:\n",
    "\n",
    "if (<condition1>):\n",
    " statement(s)\n",
    " if (<condition2>):\n",
    "  statement(s)\n",
    "else:"
   ]
  },
  {
   "cell_type": "code",
   "execution_count": 10,
   "id": "356c4058",
   "metadata": {},
   "outputs": [
    {
     "name": "stdout",
     "output_type": "stream",
     "text": [
      "blog post not found\n"
     ]
    }
   ],
   "source": [
    "\n",
    "\n",
    "a = 20\n",
    "b = 30\n",
    "if a > b:\n",
    " print(\"a is greater than b\")\n",
    " if b > a:\n",
    "  print(\"b is greater than a\")\n",
    "else:\n",
    " print(\"blog post not found\")"
   ]
  },
  {
   "cell_type": "code",
   "execution_count": 11,
   "id": "90e63a4b",
   "metadata": {},
   "outputs": [
    {
     "name": "stdout",
     "output_type": "stream",
     "text": [
      "a is greater than b\n",
      "b is greater than a\n"
     ]
    }
   ],
   "source": [
    "a = 40\n",
    "b = 30\n",
    "if a > b:\n",
    " print(\"a is greater than b\")\n",
    " if b < a:\n",
    "  print(\"b is greater than a\")\n",
    "else:\n",
    " print(\"blog post not found\")"
   ]
  },
  {
   "cell_type": "code",
   "execution_count": 16,
   "id": "e42d5c09",
   "metadata": {},
   "outputs": [
    {
     "name": "stdout",
     "output_type": "stream",
     "text": [
      "a is greater than b\n",
      "b is less than a\n"
     ]
    }
   ],
   "source": [
    "a = 40\n",
    "b = 30\n",
    "if a > b:\n",
    " print(\"a is greater than b\")\n",
    " if b < a:\n",
    "  print(\"b is less than a\")\n",
    " if b>a:\n",
    "      print('b is a grater than a')\n",
    "else:\n",
    " print(\"blog post not found\")"
   ]
  },
  {
   "cell_type": "code",
   "execution_count": 15,
   "id": "574bb974",
   "metadata": {},
   "outputs": [
    {
     "name": "stdout",
     "output_type": "stream",
     "text": [
      "a is greater than b\n"
     ]
    }
   ],
   "source": [
    "a = 40\n",
    "b = 30\n",
    "if a > b:\n",
    " print(\"a is greater than b\")\n",
    " \n",
    " if b>a:\n",
    "      print('b is a grater than a')\n",
    "else:\n",
    " print(\"blog post not found\")"
   ]
  },
  {
   "cell_type": "code",
   "execution_count": 20,
   "id": "ef1dc6e6",
   "metadata": {},
   "outputs": [
    {
     "name": "stdout",
     "output_type": "stream",
     "text": [
      "the bear can kill you\n"
     ]
    }
   ],
   "source": [
    "ans= input('you see a bear ,would you like to fight it y/n?')\n",
    "\n",
    "if ans=='y':\n",
    "    print('you are a brave ')\n",
    "    if ans=='n':\n",
    "        print('you escape from here')\n",
    "else:\n",
    "    print('the bear can kill you')\n",
    "\n"
   ]
  },
  {
   "cell_type": "code",
   "execution_count": 21,
   "id": "881c7eb7",
   "metadata": {},
   "outputs": [
    {
     "name": "stdout",
     "output_type": "stream",
     "text": [
      "the bear destroyed you\n"
     ]
    }
   ],
   "source": [
    "ans= input('you see a bear ,would you like to fight it y/n?')\n",
    "\n",
    "if ans=='y':\n",
    "    print('you are a brave ')\n",
    "    if ans=='n':\n",
    "        print('you escape from here')\n",
    "        if ans=='n':\n",
    "            print('you can go fast from here')\n",
    "        else:\n",
    "            print('the bear & lion catch and kill u')\n",
    "    else:\n",
    "        print('you died here')\n",
    "else:\n",
    "    print('the bear destroyed you')"
   ]
  },
  {
   "cell_type": "code",
   "execution_count": 22,
   "id": "3f827946",
   "metadata": {},
   "outputs": [
    {
     "name": "stdout",
     "output_type": "stream",
     "text": [
      "the total is 28 \n"
     ]
    }
   ],
   "source": [
    "a,b,c=10,3,25\n",
    "if a>b:\n",
    "    if a>c:\n",
    "        total=a+b+c\n",
    "        if total>100:\n",
    "            print('the total is big value ={total}')\n",
    "        else:\n",
    "            print(f'the total is small value {total}')\n",
    "            \n",
    "    else:\n",
    "            total=c+b\n",
    "            print(f'the total is {total} ')\n",
    "            \n",
    "else:\n",
    "    print('the total was not calculate')\n",
    "    "
   ]
  }
 ],
 "metadata": {
  "kernelspec": {
   "display_name": "Python 3",
   "language": "python",
   "name": "python3"
  },
  "language_info": {
   "codemirror_mode": {
    "name": "ipython",
    "version": 3
   },
   "file_extension": ".py",
   "mimetype": "text/x-python",
   "name": "python",
   "nbconvert_exporter": "python",
   "pygments_lexer": "ipython3",
   "version": "3.13.2"
  }
 },
 "nbformat": 4,
 "nbformat_minor": 5
}
