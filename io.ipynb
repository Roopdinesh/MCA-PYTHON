{
 "cells": [
  {
   "cell_type": "code",
   "execution_count": 1,
   "id": "411c5a5a",
   "metadata": {},
   "outputs": [
    {
     "name": "stdout",
     "output_type": "stream",
     "text": [
      "500\n",
      "20\n",
      "10\n",
      "1000.0\n"
     ]
    }
   ],
   "source": [
    "p=500\n",
    "r=20\n",
    "t=10\n",
    "si=p*r*t/100\n",
    "\n",
    "print(p)\n",
    "print(r)\n",
    "print(t)\n",
    "print(si)"
   ]
  },
  {
   "cell_type": "code",
   "execution_count": null,
   "id": "83350836",
   "metadata": {},
   "outputs": [],
   "source": [
    "p=float(input('enter your amount'))\n",
    "r=20\n",
    "t=10\n",
    "\n",
    "PRINT(r)\n",
    "PRINT(t)\n",
    "print(p)"
   ]
  },
  {
   "cell_type": "markdown",
   "id": "946d4dae",
   "metadata": {},
   "source": [
    "FORMATTING THE OUTPUT"
   ]
  },
  {
   "cell_type": "code",
   "execution_count": null,
   "id": "44111f32",
   "metadata": {},
   "outputs": [],
   "source": [
    "print(\"this is an example \")\n",
    "print(\"one\",\"two\",\"three\")"
   ]
  },
  {
   "cell_type": "code",
   "execution_count": null,
   "id": "fa654515",
   "metadata": {},
   "outputs": [],
   "source": [
    "print('ram','krishna','hari')\n",
    "print(1,2,3,4)\n",
    "print('dinesh',\"krish\",'venky',sep=\",\")\n",
    "print('dinesh',\"krish\",'venky',sep='➡️😊')\n",
    "print('dinesh',\"krish\",'venky',sep='\\n')\n",
    "print('dinesh',\"krish\",'venky',sep=\"hello🙌\")\n",
    "print('this is dinesh',\"hello🙌\")"
   ]
  },
  {
   "cell_type": "code",
   "execution_count": 2,
   "id": "a65db850",
   "metadata": {},
   "outputs": [
    {
     "name": "stdout",
     "output_type": "stream",
     "text": [
      "ram krishna hari\n",
      "1 2 3 4\n",
      "dinesh,krish,venky\n",
      "dinesh➡️😊krish➡️😊venky\n",
      "dinesh\n",
      "krish\n",
      "venky\n",
      "dineshhello🙌krishhello🙌venky\n",
      "this is dinesh hello🙌\n"
     ]
    }
   ],
   "source": [
    "print('ram','krishna','hari')\n",
    "print(1,2,3,4)\n",
    "print('dinesh',\"krish\",'venky',sep=\",\")\n",
    "print('dinesh',\"krish\",'venky',sep='➡️😊')\n",
    "print('dinesh',\"krish\",'venky',sep='\\n')\n",
    "print('dinesh',\"krish\",'venky',sep=\"hello🙌\")\n",
    "print('this is dinesh',\"hello🙌\")"
   ]
  },
  {
   "cell_type": "code",
   "execution_count": 1,
   "id": "b1d1e814",
   "metadata": {},
   "outputs": [
    {
     "name": "stdout",
     "output_type": "stream",
     "text": [
      "1 2 3 4 5\n",
      "1234\n",
      "1,2,3,4,5,6\n",
      "1➡️2➡️3➡️4➡️5\n",
      "1\n",
      "2\n",
      "3\n",
      "4\n",
      "5\n",
      "1hello world2hello world3hello world4hello world5\n"
     ]
    }
   ],
   "source": [
    "print(1,2,3,4,5)\n",
    "print(1,2,3,4,sep=\"\")\n",
    "print(1,2,3,4,5,6,sep=\",\")\n",
    "print(1,2,3,4,5,sep='➡️')\n",
    "print(1,2,3,4,5,sep=\"\\n\")\n",
    "print(1,2,3,4,5,sep='hello world')"
   ]
  },
  {
   "cell_type": "code",
   "execution_count": null,
   "id": "2827b3bd",
   "metadata": {},
   "outputs": [],
   "source": []
  }
 ],
 "metadata": {
  "kernelspec": {
   "display_name": "Python 3",
   "language": "python",
   "name": "python3"
  },
  "language_info": {
   "codemirror_mode": {
    "name": "ipython",
    "version": 3
   },
   "file_extension": ".py",
   "mimetype": "text/x-python",
   "name": "python",
   "nbconvert_exporter": "python",
   "pygments_lexer": "ipython3",
   "version": "3.13.2"
  }
 },
 "nbformat": 4,
 "nbformat_minor": 5
}
