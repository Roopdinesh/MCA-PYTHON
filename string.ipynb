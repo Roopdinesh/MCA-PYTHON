{
 "cells": [
  {
   "cell_type": "code",
   "execution_count": null,
   "id": "f7c16af1",
   "metadata": {},
   "outputs": [
    {
     "name": "stdout",
     "output_type": "stream",
     "text": [
      "apple\n",
      "banana\n",
      "this is a chocolate cake \n"
     ]
    }
   ],
   "source": [
    "a='apple'\n",
    "b='banana'\n",
    "c='''this is a chocolate cake'''\n",
    "print(a)\n",
    "print(b)\n",
    "print(c)\n",
    "\n",
    "\n"
   ]
  },
  {
   "cell_type": "code",
   "execution_count": 4,
   "id": "ef266fe2",
   "metadata": {},
   "outputs": [
    {
     "name": "stdout",
     "output_type": "stream",
     "text": [
      "10 <class 'str'>\n",
      "['apple', 'banana'] <class 'str'>\n"
     ]
    }
   ],
   "source": [
    "#typecasting \n",
    "x= str(10)\n",
    "y=str([\"apple\",\"banana\"])\n",
    "print(x, type(x))\n",
    "print(y,type(y))"
   ]
  },
  {
   "cell_type": "code",
   "execution_count": 6,
   "id": "ce2341e0",
   "metadata": {},
   "outputs": [
    {
     "name": "stdout",
     "output_type": "stream",
     "text": [
      "a\n"
     ]
    }
   ],
   "source": [
    "print(a[0])\n",
    "\n"
   ]
  },
  {
   "cell_type": "code",
   "execution_count": 7,
   "id": "13358460",
   "metadata": {},
   "outputs": [
    {
     "data": {
      "text/plain": [
       "'sappoi'"
      ]
     },
     "execution_count": 7,
     "metadata": {},
     "output_type": "execute_result"
    }
   ],
   "source": [
    "x='disappointed'\n",
    "x[2:8]"
   ]
  },
  {
   "cell_type": "code",
   "execution_count": 8,
   "id": "1580fe3a",
   "metadata": {},
   "outputs": [
    {
     "data": {
      "text/plain": [
       "'se'"
      ]
     },
     "execution_count": 8,
     "metadata": {},
     "output_type": "execute_result"
    }
   ],
   "source": [
    "x='disappointed'\n",
    "x[2::8]"
   ]
  },
  {
   "cell_type": "code",
   "execution_count": 10,
   "id": "6ee0cce6",
   "metadata": {},
   "outputs": [
    {
     "name": "stdout",
     "output_type": "stream",
     "text": [
      "the sappoi is,i am notdisappointed\n"
     ]
    }
   ],
   "source": [
    "x='disappointed'\n",
    "y=x[2:8]\n",
    "print(f\"the {y} is,i am not{x}\")"
   ]
  },
  {
   "cell_type": "code",
   "execution_count": 13,
   "id": "86abcab1",
   "metadata": {},
   "outputs": [
    {
     "name": "stdout",
     "output_type": "stream",
     "text": [
      " cola cola pepsi balayya babu seksi\n"
     ]
    }
   ],
   "source": [
    "poem=\" cola cola pepsi balayya babu seksi\"\n",
    "print(poem)"
   ]
  },
  {
   "cell_type": "code",
   "execution_count": 12,
   "id": "3e73ea70",
   "metadata": {},
   "outputs": [
    {
     "name": "stdout",
     "output_type": "stream",
     "text": [
      " twikle twinkle little star \n"
     ]
    }
   ],
   "source": [
    "poem=' twikle twinkle little star '\n",
    "print(poem)"
   ]
  },
  {
   "cell_type": "code",
   "execution_count": null,
   "id": "c89385f7",
   "metadata": {},
   "outputs": [
    {
     "name": "stdout",
     "output_type": "stream",
     "text": [
      " johnny johnny yes papa\n",
      "         eating sugar no papa\n",
      "         telling lies  no papa\n",
      "         open your mouth haa haa\n"
     ]
    }
   ],
   "source": [
    "poem=''' johnny johnny yes papa\n",
    "\n",
    "         eating sugar no papa\n",
    "         telling lies  no papa\n",
    "         open your mouth haa haa'''\n",
    "print(poem)"
   ]
  },
  {
   "cell_type": "code",
   "execution_count": 17,
   "id": "52251e23",
   "metadata": {},
   "outputs": [
    {
     "data": {
      "text/plain": [
       "' johnny johnny yes papa'"
      ]
     },
     "execution_count": 17,
     "metadata": {},
     "output_type": "execute_result"
    }
   ],
   "source": [
    "poem=''' johnny johnny yes papa\n",
    "         eating sugar no papa\n",
    "         telling lies  no papa\n",
    "         open your mouth haa haa'''\n",
    "poem[0:23]\n"
   ]
  },
  {
   "cell_type": "code",
   "execution_count": 18,
   "id": "7a863714",
   "metadata": {},
   "outputs": [
    {
     "name": "stdout",
     "output_type": "stream",
     "text": [
      " johnny johnny yes papa\n"
     ]
    }
   ],
   "source": [
    "poem=''' johnny johnny yes papa\n",
    "         eating sugar no papa\n",
    "         telling lies  no papa\n",
    "         open your mouth haa haa'''\n",
    "y=poem[0:23]\n",
    "print(y)"
   ]
  },
  {
   "cell_type": "code",
   "execution_count": 1,
   "id": "d26b39c4",
   "metadata": {},
   "outputs": [
    {
     "name": "stdout",
     "output_type": "stream",
     "text": [
      "maintain  silence in library\n",
      "MAINTAIN  SILENCE IN LIBRARY\n"
     ]
    }
   ],
   "source": [
    "s='maintain  silence in library'\n",
    "supper=s.upper()\n",
    "print(s)\n",
    "print(supper)"
   ]
  },
  {
   "cell_type": "code",
   "execution_count": 4,
   "id": "ce93e68b",
   "metadata": {},
   "outputs": [
    {
     "name": "stdout",
     "output_type": "stream",
     "text": [
      "maintain  silence in library\n",
      "maintain  silence in library\n",
      "Maintain  silence in library\n",
      "Maintain  Silence In Library\n"
     ]
    }
   ],
   "source": [
    "slower=s.lower()\n",
    "scapitalize=s.capitalize()\n",
    "stitle=s.title()\n",
    "print(s)\n",
    "print(slower)\n",
    "print(scapitalize)\n",
    "print(stitle)"
   ]
  },
  {
   "cell_type": "code",
   "execution_count": 8,
   "id": "ddfe7ddc",
   "metadata": {},
   "outputs": [
    {
     "name": "stdout",
     "output_type": "stream",
     "text": [
      "MAINTAIN  SILENCE IN LIBRARY\n",
      "maintain  silence in library\n"
     ]
    }
   ],
   "source": [
    "sswapcase=s.swapcase()\n",
    "scasefold=s.casefold()\n",
    "print(sswapcase)\n",
    "print(scasefold)"
   ]
  },
  {
   "cell_type": "code",
   "execution_count": 9,
   "id": "59270a34",
   "metadata": {},
   "outputs": [
    {
     "name": "stdout",
     "output_type": "stream",
     "text": [
      "5\n"
     ]
    }
   ],
   "source": [
    "a='seven'\n",
    "print(len(a))"
   ]
  },
  {
   "cell_type": "code",
   "execution_count": 13,
   "id": "4ea94342",
   "metadata": {},
   "outputs": [
    {
     "name": "stdout",
     "output_type": "stream",
     "text": [
      "seven\n",
      "seven     \n",
      "seven-----\n"
     ]
    }
   ],
   "source": [
    "al=a.ljust(10)\n",
    "print(a)\n",
    "print(al)\n",
    "a2=a.ljust(10,'-')\n",
    "print(a2)"
   ]
  },
  {
   "cell_type": "code",
   "execution_count": 12,
   "id": "0f209593",
   "metadata": {},
   "outputs": [
    {
     "name": "stdout",
     "output_type": "stream",
     "text": [
      "seven\n",
      "     seven\n"
     ]
    }
   ],
   "source": [
    "ar=a.rjust(10)\n",
    "print(a)\n",
    "print(ar)"
   ]
  },
  {
   "cell_type": "code",
   "execution_count": 15,
   "id": "6bfa60fd",
   "metadata": {},
   "outputs": [
    {
     "name": "stdout",
     "output_type": "stream",
     "text": [
      "               seven\n",
      "%%%%%%%%%%%%%%%seven\n",
      "    seven    \n",
      "++++seven++++\n"
     ]
    }
   ],
   "source": [
    "a3=a.rjust(20)\n",
    "a4=a.rjust(20,'%')\n",
    "a5=a.center(13)\n",
    "a6=a.center(13,'+')\n",
    "print(a3,a4,a5,a6,sep='\\n')"
   ]
  },
  {
   "cell_type": "code",
   "execution_count": 20,
   "id": "4e42f755",
   "metadata": {},
   "outputs": [
    {
     "name": "stdout",
     "output_type": "stream",
     "text": [
      "False\n",
      "True\n",
      "True\n",
      "False\n"
     ]
    }
   ],
   "source": [
    "x=input()\n",
    "print(x.isalpha())\n",
    "print(x.isalnum())\n",
    "print(x.isdigit())\n",
    "print(x.isspace())\n"
   ]
  },
  {
   "cell_type": "code",
   "execution_count": 19,
   "id": "133b1e4f",
   "metadata": {},
   "outputs": [
    {
     "name": "stdout",
     "output_type": "stream",
     "text": [
      "True\n",
      "True\n",
      "False\n",
      "False\n"
     ]
    }
   ],
   "source": [
    "x=input()\n",
    "print(x.isalpha())\n",
    "print(x.isalnum())\n",
    "print(x.isdigit())\n",
    "print(x.isspace())\n"
   ]
  },
  {
   "cell_type": "code",
   "execution_count": 22,
   "id": "c0a37b0b",
   "metadata": {},
   "outputs": [
    {
     "name": "stdout",
     "output_type": "stream",
     "text": [
      "hello\n",
      "False\n",
      "True\n",
      "False\n"
     ]
    }
   ],
   "source": [
    "a=input()\n",
    "a1=a.startswith('a')\n",
    "a2=a.startswith('hello')\n",
    "a3=a.startswith('b')\n",
    "print(a,a1,a2,a3,sep='\\n')"
   ]
  },
  {
   "cell_type": "code",
   "execution_count": 23,
   "id": "235bb83e",
   "metadata": {},
   "outputs": [
    {
     "name": "stdout",
     "output_type": "stream",
     "text": [
      "abhi\n",
      "True\n",
      "False\n",
      "False\n"
     ]
    }
   ],
   "source": [
    "a=input()\n",
    "a1=a.startswith('a')\n",
    "a2=a.startswith('hello')\n",
    "a3=a.startswith('b')\n",
    "print(a,a1,a2,a3,sep='\\n')"
   ]
  },
  {
   "cell_type": "code",
   "execution_count": null,
   "id": "c71915f1",
   "metadata": {},
   "outputs": [],
   "source": []
  }
 ],
 "metadata": {
  "kernelspec": {
   "display_name": "Python 3",
   "language": "python",
   "name": "python3"
  },
  "language_info": {
   "codemirror_mode": {
    "name": "ipython",
    "version": 3
   },
   "file_extension": ".py",
   "mimetype": "text/x-python",
   "name": "python",
   "nbconvert_exporter": "python",
   "pygments_lexer": "ipython3",
   "version": "3.13.2"
  }
 },
 "nbformat": 4,
 "nbformat_minor": 5
}
