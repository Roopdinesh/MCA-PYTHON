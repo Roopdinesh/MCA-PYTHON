{
 "cells": [
  {
   "cell_type": "code",
   "execution_count": 1,
   "id": "3a3e219e",
   "metadata": {},
   "outputs": [
    {
     "name": "stdout",
     "output_type": "stream",
     "text": [
      "After swapping:\n",
      "First value: 8\n",
      "Second value: 5\n"
     ]
    }
   ],
   "source": [
    "# Swapping two variables without if/else or loops\n",
    "\n",
    "# Taking input from the user\n",
    "a = input(\"Enter the first value: \")\n",
    "b = input(\"Enter the second value: \")\n",
    "\n",
    "# Swapping using tuple unpacking\n",
    "a, b = b, a\n",
    "\n",
    "print(\"After swapping:\")\n",
    "print(\"First value:\", a)\n",
    "print(\"Second value:\", b)"
   ]
  },
  {
   "cell_type": "code",
   "execution_count": 2,
   "id": "642b06b7",
   "metadata": {},
   "outputs": [
    {
     "name": "stdout",
     "output_type": "stream",
     "text": [
      "Result: 88\n"
     ]
    }
   ],
   "source": [
    "# Simple Calculator without if/else or loops\n",
    "\n",
    "# Taking inputs\n",
    "num1 = input(\"Enter first number: \")\n",
    "op = input(\"Enter operator (+, -, *, /): \")\n",
    "num2 = input(\"Enter second number: \")\n",
    "\n",
    "# Forming expression as a string\n",
    "expression = num1 + op + num2\n",
    "\n",
    "# Evaluating expression using eval()\n",
    "result = eval(expression)\n",
    "\n",
    "print(\"Result:\", result)"
   ]
  },
  {
   "cell_type": "code",
   "execution_count": 3,
   "id": "d52d9f10",
   "metadata": {},
   "outputs": [
    {
     "name": "stdout",
     "output_type": "stream",
     "text": [
      "Integer value: 55 | Type: <class 'int'>\n",
      "Float value: 55.0 | Type: <class 'float'>\n"
     ]
    }
   ],
   "source": [
    "# Type Conversion Program\n",
    "\n",
    "# Take input as a string\n",
    "num_str = input(\"Enter a number: \")\n",
    "\n",
    "# Convert to integer and float\n",
    "num_int = int(num_str)\n",
    "num_float = float(num_str)\n",
    "\n",
    "# Print values and their types\n",
    "print(\"Integer value:\", num_int, \"| Type:\", type(num_int))\n",
    "print(\"Float value:\", num_float, \"| Type:\", type(num_float))"
   ]
  },
  {
   "cell_type": "markdown",
   "id": "249c2389",
   "metadata": {},
   "source": []
  },
  {
   "cell_type": "code",
   "execution_count": 4,
   "id": "1a24345f",
   "metadata": {},
   "outputs": [
    {
     "name": "stdout",
     "output_type": "stream",
     "text": [
      "Result: 120.0\n"
     ]
    }
   ],
   "source": [
    "# Complex Expression Evaluator\n",
    "\n",
    "# Taking input from the user\n",
    "num1 = float(input(\"Enter first number: \"))\n",
    "num2 = float(input(\"Enter second number: \"))\n",
    "num3 = float(input(\"Enter third number: \"))\n",
    "\n",
    "# Calculation with error handling\n",
    "try:\n",
    "    result = ((num1 + num2) * num3) / (num1 - num2)\n",
    "    # Round to 2 decimal places\n",
    "    print(\"Result:\", round(result, 2))\n",
    "except ZeroDivisionError:\n",
    "    print(\"Error: Division by zero (num1 - num2 cannot be zero).\")\n"
   ]
  },
  {
   "cell_type": "code",
   "execution_count": 6,
   "id": "cb8a91fa",
   "metadata": {},
   "outputs": [
    {
     "name": "stdout",
     "output_type": "stream",
     "text": [
      "Result: -24.0\n"
     ]
    }
   ],
   "source": [
    "# Complex Expression Evaluator\n",
    "\n",
    "# Taking input from the user\n",
    "num1 = float(input(\"Enter first number: \"))\n",
    "num2 = float(input(\"Enter second number: \"))\n",
    "num3 = float(input(\"Enter third number: \"))\n",
    "\n",
    "# Calculation with error handling\n",
    "try:\n",
    "    result = ((num1 + num2) * num3) / (num1 - num2)\n",
    "    # Round to 2 decimal places\n",
    "    print(\"Result:\", round(result, 2))\n",
    "except ZeroDivisionError:\n",
    "    print(\"Error: Division by zero (num1 - num2 cannot be zero).\")\n",
    "\n"
   ]
  },
  {
   "cell_type": "code",
   "execution_count": 7,
   "id": "6843bf66",
   "metadata": {},
   "outputs": [
    {
     "name": "stdout",
     "output_type": "stream",
     "text": [
      "The sum is: 30.0\n"
     ]
    }
   ],
   "source": [
    "# Sum of Two Numbers\n",
    "\n",
    "# Taking input from the user\n",
    "num1 = float(input(\"Enter first number: \"))\n",
    "num2 = float(input(\"Enter second number: \"))\n",
    "\n",
    "# Calculate the sum\n",
    "sum_result = num1 + num2\n",
    "\n",
    "# Print the result\n",
    "print(\"The sum is:\", sum_result)\n"
   ]
  },
  {
   "cell_type": "code",
   "execution_count": 8,
   "id": "e4d0810b",
   "metadata": {},
   "outputs": [
    {
     "name": "stdout",
     "output_type": "stream",
     "text": [
      "Uppercase: RAM\n"
     ]
    }
   ],
   "source": [
    "# Uppercase String\n",
    "\n",
    "# Take input from the user\n",
    "text = input(\"Enter a string: \")\n",
    "\n",
    "# Convert to uppercase\n",
    "uppercase_text = text.upper()\n",
    "\n",
    "# Print the result\n",
    "print(\"Uppercase:\", uppercase_text)\n"
   ]
  },
  {
   "cell_type": "code",
   "execution_count": 9,
   "id": "da80a064",
   "metadata": {},
   "outputs": [
    {
     "name": "stdout",
     "output_type": "stream",
     "text": [
      "Square of the number is: 4.0\n"
     ]
    }
   ],
   "source": [
    "# Square of a Number\n",
    "\n",
    "# Take input from the user\n",
    "num = float(input(\"Enter a number: \"))\n",
    "\n",
    "# Calculate the square\n",
    "square = num ** 2   # or square = num * num\n",
    "\n",
    "# Print the result\n",
    "print(\"Square of the number is:\", square)\n"
   ]
  },
  {
   "cell_type": "code",
   "execution_count": 12,
   "id": "9775ac8e",
   "metadata": {},
   "outputs": [
    {
     "name": "stdout",
     "output_type": "stream",
     "text": [
      "Concatenated string: ramcharan\n"
     ]
    }
   ],
   "source": [
    "# String Concatenation\n",
    "\n",
    "# Take two strings as input\n",
    "str1 = input(\"Enter first string: \")\n",
    "str2 = input(\"Enter second string: \")\n",
    "\n",
    "# Concatenate the strings\n",
    "result = str1 + str2   # or str1 + \" \" + str2 to add a space\n",
    "\n",
    "# Print the result\n",
    "print(\"Concatenated string:\", result)\n"
   ]
  },
  {
   "cell_type": "code",
   "execution_count": 13,
   "id": "d8838c2a",
   "metadata": {},
   "outputs": [
    {
     "name": "stdout",
     "output_type": "stream",
     "text": [
      "Integer equivalent: 5\n"
     ]
    }
   ],
   "source": [
    "# Float to Integer Conversion\n",
    "\n",
    "# Take float input from the user\n",
    "num = float(input(\"Enter a float number: \"))\n",
    "\n",
    "# Convert to integer (truncates decimals)\n",
    "int_num = int(num)\n",
    "\n",
    "# Print the result\n",
    "print(\"Integer equivalent:\", int_num)\n"
   ]
  },
  {
   "cell_type": "code",
   "execution_count": 14,
   "id": "f4f0d0b3",
   "metadata": {},
   "outputs": [
    {
     "name": "stdout",
     "output_type": "stream",
     "text": [
      "You are 20 years old\n"
     ]
    }
   ],
   "source": [
    "# Age Display\n",
    "\n",
    "# Take input from the user\n",
    "age = int(input(\"Enter your age: \"))\n",
    "\n",
    "# Display the message using f-string\n",
    "print(f\"You are {age} years old\")\n"
   ]
  },
  {
   "cell_type": "code",
   "execution_count": 15,
   "id": "c6542df8",
   "metadata": {},
   "outputs": [
    {
     "name": "stdout",
     "output_type": "stream",
     "text": [
      "The product is: 10.0\n"
     ]
    }
   ],
   "source": [
    "# Product of Two Numbers\n",
    "\n",
    "# Take two numbers as input\n",
    "num1 = float(input(\"Enter first number: \"))\n",
    "num2 = float(input(\"Enter second number: \"))\n",
    "\n",
    "# Calculate the product\n",
    "product = num1 * num2\n",
    "\n",
    "# Print the result\n",
    "print(\"The product is:\", product)\n"
   ]
  },
  {
   "cell_type": "code",
   "execution_count": 16,
   "id": "24326f8c",
   "metadata": {},
   "outputs": [
    {
     "name": "stdout",
     "output_type": "stream",
     "text": [
      "Average of the three numbers: 17.333333333333332\n"
     ]
    }
   ],
   "source": [
    "# Average of Three Numbers\n",
    "\n",
    "# Take three numbers as input\n",
    "num1 = float(input(\"Enter first number: \"))\n",
    "num2 = float(input(\"Enter second number: \"))\n",
    "num3 = float(input(\"Enter third number: \"))\n",
    "\n",
    "# Calculate the average\n",
    "average = (num1 + num2 + num3) / 3\n",
    "\n",
    "# Print the result\n",
    "print(\"Average of the three numbers:\", average)\n"
   ]
  },
  {
   "cell_type": "code",
   "execution_count": null,
   "id": "cb4d6994",
   "metadata": {},
   "outputs": [
    {
     "name": "stdout",
     "output_type": "stream",
     "text": [
      "Absolute value: 4.0\n"
     ]
    }
   ],
   "source": [
    "# Absolute Value\n",
    "\n",
    "# Take a number as input\n",
    "num = float(input(\"Enter a number: \"))\n",
    "\n",
    "# Get its absolute value using abs()\n",
    "abs_value = abs(num)\n",
    "\n",
    "# Print the result\n",
    "print(\"Absolute value:\", abs_value)\n"
   ]
  },
  {
   "cell_type": "code",
   "execution_count": 18,
   "id": "bd8df217",
   "metadata": {},
   "outputs": [
    {
     "name": "stdout",
     "output_type": "stream",
     "text": [
      "The difference is: -10.0\n"
     ]
    }
   ],
   "source": [
    "# Difference of Two Numbers\n",
    "\n",
    "# Take two numbers as input\n",
    "num1 = float(input(\"Enter first number: \"))\n",
    "num2 = float(input(\"Enter second number: \"))\n",
    "\n",
    "# Calculate the difference (first - second)\n",
    "difference = num1 - num2\n",
    "\n",
    "# Print the result\n",
    "print(\"The difference is:\", difference)\n"
   ]
  },
  {
   "cell_type": "code",
   "execution_count": 19,
   "id": "763a43a0",
   "metadata": {},
   "outputs": [
    {
     "name": "stdout",
     "output_type": "stream",
     "text": [
      "The length of the sentence is: 6\n"
     ]
    }
   ],
   "source": [
    "# String Length\n",
    "\n",
    "# Take a sentence as input\n",
    "sentence = input(\"Enter a sentence: \")\n",
    "\n",
    "# Get the length using len()\n",
    "length = len(sentence)\n",
    "\n",
    "# Print the result\n",
    "print(\"The length of the sentence is:\", length)\n"
   ]
  },
  {
   "cell_type": "code",
   "execution_count": 20,
   "id": "268ed318",
   "metadata": {},
   "outputs": [
    {
     "name": "stdout",
     "output_type": "stream",
     "text": [
      "Reversed string: inan\n"
     ]
    }
   ],
   "source": [
    "# String Reversal\n",
    "\n",
    "# Take a string as input\n",
    "text = input(\"Enter a string: \")\n",
    "\n",
    "# Reverse the string using slicing\n",
    "reversed_text = text[::-1]\n",
    "\n",
    "# Print the reversed string\n",
    "print(\"Reversed string:\", reversed_text)\n"
   ]
  },
  {
   "cell_type": "code",
   "execution_count": 21,
   "id": "366955bc",
   "metadata": {},
   "outputs": [
    {
     "name": "stdout",
     "output_type": "stream",
     "text": [
      "Height in meters: 1.0\n"
     ]
    }
   ],
   "source": [
    "# Height Conversion (cm to m)\n",
    "\n",
    "# Take height in centimeters as input\n",
    "height_cm = float(input(\"Enter height in centimeters: \"))\n",
    "\n",
    "# Convert to meters\n",
    "height_m = height_cm / 100\n",
    "\n",
    "# Print the result\n",
    "print(\"Height in meters:\", height_m)\n"
   ]
  },
  {
   "cell_type": "code",
   "execution_count": 22,
   "id": "55521a55",
   "metadata": {},
   "outputs": [
    {
     "name": "stdout",
     "output_type": "stream",
     "text": [
      "The quotient is: 1.3333333333333333\n"
     ]
    }
   ],
   "source": [
    "# Quotient of Two Numbers\n",
    "\n",
    "# Take two numbers as input\n",
    "num1 = float(input(\"Enter the dividend (first number): \"))\n",
    "num2 = float(input(\"Enter the divisor (second number): \"))\n",
    "\n",
    "# Calculate the quotient\n",
    "try:\n",
    "    quotient = num1 / num2\n",
    "    print(\"The quotient is:\", quotient)\n",
    "except ZeroDivisionError:\n",
    "    print(\"Error: Division by zero is not allowed.\")\n"
   ]
  },
  {
   "cell_type": "code",
   "execution_count": 23,
   "id": "64a7a271",
   "metadata": {},
   "outputs": [
    {
     "name": "stdout",
     "output_type": "stream",
     "text": [
      "\"dinesh\"\n"
     ]
    }
   ],
   "source": [
    "# Quoted Name\n",
    "\n",
    "# Take a name as input\n",
    "name = input(\"Enter your name: \")\n",
    "\n",
    "# Surround it with double quotes using f-string\n",
    "quoted_name = f'\"{name}\"'\n",
    "\n",
    "# Print the result\n",
    "print(quoted_name)\n"
   ]
  },
  {
   "cell_type": "code",
   "execution_count": 24,
   "id": "508f1a5c",
   "metadata": {},
   "outputs": [
    {
     "name": "stdout",
     "output_type": "stream",
     "text": [
      "Number rounded to 2 decimal places: 15.0\n"
     ]
    }
   ],
   "source": [
    "# Formatted Number (Rounded to 2 Decimal Places)\n",
    "\n",
    "# Take a number as input\n",
    "num = float(input(\"Enter a number: \"))\n",
    "\n",
    "# Round to 2 decimal places\n",
    "rounded_num = round(num, 2)\n",
    "\n",
    "# Print the result\n",
    "print(\"Number rounded to 2 decimal places:\", rounded_num)\n"
   ]
  },
  {
   "cell_type": "code",
   "execution_count": 25,
   "id": "7039320c",
   "metadata": {},
   "outputs": [
    {
     "name": "stdout",
     "output_type": "stream",
     "text": [
      "ram charan\n"
     ]
    }
   ],
   "source": [
    "# String Separation\n",
    "\n",
    "# Take two strings as input\n",
    "str1 = input(\"Enter first string: \")\n",
    "str2 = input(\"Enter second string: \")\n",
    "\n",
    "# Print them separated by a space using f-string\n",
    "print(f\"{str1} {str2}\")\n",
    "\n",
    "# (or using concatenation)\n",
    "# print(str1 + \" \" + str2)\n"
   ]
  },
  {
   "cell_type": "code",
   "execution_count": 26,
   "id": "333c9ba0",
   "metadata": {},
   "outputs": [
    {
     "name": "stdout",
     "output_type": "stream",
     "text": [
      "The type of the input is: <class 'str'>\n"
     ]
    }
   ],
   "source": [
    "# Type of Input\n",
    "\n",
    "# Take any input\n",
    "value = input(\"Enter something: \")\n",
    "\n",
    "# Print its type\n",
    "print(\"The type of the input is:\", type(value))\n"
   ]
  },
  {
   "cell_type": "code",
   "execution_count": 27,
   "id": "1c648851",
   "metadata": {},
   "outputs": [
    {
     "name": "stdout",
     "output_type": "stream",
     "text": [
      "Sum of the numbers: 100.0\n",
      "Product of the numbers: 30000.0\n"
     ]
    }
   ],
   "source": [
    "# Sum and Product\n",
    "\n",
    "# Take three numbers as input\n",
    "num1 = float(input(\"Enter first number: \"))\n",
    "num2 = float(input(\"Enter second number: \"))\n",
    "num3 = float(input(\"Enter third number: \"))\n",
    "\n",
    "# Calculate sum\n",
    "sum_result = num1 + num2 + num3\n",
    "\n",
    "# Calculate product\n",
    "product_result = num1 * num2 * num3\n",
    "\n",
    "# Print both results\n",
    "print(\"Sum of the numbers:\", sum_result)\n",
    "print(\"Product of the numbers:\", product_result)\n"
   ]
  },
  {
   "cell_type": "markdown",
   "id": "3a34ba59",
   "metadata": {},
   "source": [
    "PYTHON DATA STRUCTURES\n",
    "\n",
    "\n",
    "\n",
    ".ADDING ELEMENTS\n",
    "\n",
    "1.APPEND()->  ADD ONE ELEMENT TO THE END OF THE LIST\n",
    "2.INSERT()->ADD ONE ELEMENT TO A SPECIFIC POSITION\n",
    "3.EXTEND()->APPEND MULTIPLE ITEMS IN A LIST\n",
    "\n",
    "\n",
    ".REMOVEING ELEMENTS\n",
    "\n",
    "1.\tremove()-> remove the first occurrence of a value\n",
    "2.\tpop()->remove and return an element from an index\n",
    "3.\tclear()-> remove all elements from the list"
   ]
  },
  {
   "cell_type": "code",
   "execution_count": null,
   "id": "9e9468c7",
   "metadata": {},
   "outputs": [],
   "source": []
  }
 ],
 "metadata": {
  "kernelspec": {
   "display_name": "Python 3",
   "language": "python",
   "name": "python3"
  },
  "language_info": {
   "codemirror_mode": {
    "name": "ipython",
    "version": 3
   },
   "file_extension": ".py",
   "mimetype": "text/x-python",
   "name": "python",
   "nbconvert_exporter": "python",
   "pygments_lexer": "ipython3",
   "version": "3.13.2"
  }
 },
 "nbformat": 4,
 "nbformat_minor": 5
}
