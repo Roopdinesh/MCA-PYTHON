{
 "cells": [
  {
   "cell_type": "code",
   "execution_count": null,
   "id": "e1003e29",
   "metadata": {},
   "outputs": [],
   "source": [
    "x=[]  #creation of  empty list \n",
    "x=list()# empty list\n",
    "y=[1,2,3] #direct intializaton\n",
    "z=[]\n",
    "z.append('apple')  #adding a value\n",
    "\n"
   ]
  },
  {
   "cell_type": "code",
   "execution_count": null,
   "id": "9d7fb253",
   "metadata": {},
   "outputs": [
    {
     "name": "stdout",
     "output_type": "stream",
     "text": [
      "[1, 2, 3] [4, 5, 6] [1, 2, 3, 4, 5, 6]\n"
     ]
    }
   ],
   "source": [
    "x=[1,2,3]\n",
    "y=[4,5,6]\n",
    "z=x+y       #concatenate list\n",
    "print(x,y,z)"
   ]
  },
  {
   "cell_type": "code",
   "execution_count": 5,
   "id": "c38af807",
   "metadata": {},
   "outputs": [
    {
     "name": "stdout",
     "output_type": "stream",
     "text": [
      "[1, 1, 1, 1, 1, 1, 1, 1, 1, 1]\n",
      "[1, 2, 1, 2, 1, 2, 1, 2, 1, 2]\n",
      "[1, 1, 1, 1, 1, 1, 1, 1, 1, 1, 1, 1, 1, 1, 1, 1, 1, 1, 1, 1]\n"
     ]
    }
   ],
   "source": [
    "#list of duplicate\n",
    "\n",
    "a=[1]*10\n",
    "print(a)\n",
    "\n",
    "b=[1,2]*5\n",
    "c=a*2\n",
    "print(b)\n",
    "print(c)"
   ]
  },
  {
   "cell_type": "code",
   "execution_count": 7,
   "id": "2cc9fa82",
   "metadata": {},
   "outputs": [
    {
     "name": "stdout",
     "output_type": "stream",
     "text": [
      "[1, 1, 1, 1, 1, 1, 1, 1, 1, 1]\n",
      "1\n",
      "1\n",
      "1\n",
      "1\n",
      "1\n",
      "1\n",
      "1\n",
      "1\n",
      "1\n",
      "1\n",
      "1\n",
      "1 1\n"
     ]
    }
   ],
   "source": [
    "#displaying\n",
    "print(a) #new output\n",
    "#displaying single item of a time \n",
    "for item in a:\n",
    "    print(item)\n",
    "    #single element using index\n",
    "print(a[0])\n",
    "print(a[3],a[5])"
   ]
  },
  {
   "cell_type": "code",
   "execution_count": 1,
   "id": "81c3506c",
   "metadata": {},
   "outputs": [
    {
     "name": "stdout",
     "output_type": "stream",
     "text": [
      "['the way of king']\n",
      "['the way of king', 'the final empire ', 'steelheart', 'legion']\n"
     ]
    }
   ],
   "source": [
    "books=[]\n",
    "#adding one item at a time\n",
    "books.append('the way of king')\n",
    "print(books)\n",
    "books.append(\"the final empire \")\n",
    "books.append(\"steelheart\")\n",
    "books.append(\"legion\")\n",
    "print(books)"
   ]
  },
  {
   "cell_type": "code",
   "execution_count": 7,
   "id": "3cc720d2",
   "metadata": {},
   "outputs": [
    {
     "name": "stdout",
     "output_type": "stream",
     "text": [
      "['the way of king', 'the final empire ', 'steelheart', 'legion', 'harry poter']\n"
     ]
    }
   ],
   "source": [
    "books.append(\"harry poter\")\n",
    "print(books)"
   ]
  },
  {
   "cell_type": "code",
   "execution_count": 13,
   "id": "5e5efa39",
   "metadata": {},
   "outputs": [
    {
     "name": "stdout",
     "output_type": "stream",
     "text": [
      "['the way of king', 'the final empire ', 'steelheart', 'legion', 'harry poter', ['harry poter', 'jungle book']]\n"
     ]
    }
   ],
   "source": [
    "books.append([\"harry poter\",'jungle book'])\n",
    "print(books)"
   ]
  },
  {
   "cell_type": "code",
   "execution_count": 11,
   "id": "e443867e",
   "metadata": {},
   "outputs": [
    {
     "name": "stdout",
     "output_type": "stream",
     "text": [
      "['red', 'yellow', 'blue']\n",
      "['red', 'yellow', 'blue', 'black ', 'white']\n"
     ]
    }
   ],
   "source": [
    "colors=['red','yellow','blue']\n",
    "print(colors)\n",
    "colors.extend(['black ','white'])\n",
    "\n",
    "print(colors)"
   ]
  },
  {
   "cell_type": "code",
   "execution_count": 15,
   "id": "2d0cf7dd",
   "metadata": {},
   "outputs": [
    {
     "name": "stdout",
     "output_type": "stream",
     "text": [
      "['red', 'yellow', 'blue', 'black ', 'white']\n",
      "['pink', 'purrple', 'yellow']\n"
     ]
    }
   ],
   "source": [
    "colors2=['pink','purrple','yellow']\n",
    "print(colors)\n",
    "colors.extend([colors2])\n",
    "\n",
    "print(colors2)"
   ]
  },
  {
   "cell_type": "code",
   "execution_count": 20,
   "id": "ab1a2b87",
   "metadata": {},
   "outputs": [
    {
     "name": "stdout",
     "output_type": "stream",
     "text": [
      "[1]\n",
      "[1, 2]\n",
      "[1, 2, 3]\n",
      "[1, 2, 3, 4]\n",
      "[1, 2, 3, 4, 5]\n",
      "[1, 2, 3, 4, 5, 6]\n",
      "[1, 2, 3, 4, 5, 6, 7]\n",
      "[1, 2, 3, 4, 5, 6, 7, 8]\n",
      "[1, 2, 3, 4, 5, 6, 7, 8, 9]\n",
      "[1, 2, 3, 4, 5, 6, 7, 8, 9, 10]\n"
     ]
    }
   ],
   "source": [
    "a=[]\n",
    "for i in range(1,11):\n",
    "    a.append(i)\n",
    "    print(a)"
   ]
  },
  {
   "cell_type": "code",
   "execution_count": 21,
   "id": "3b9c09e9",
   "metadata": {},
   "outputs": [
    {
     "name": "stdout",
     "output_type": "stream",
     "text": [
      "[1, 2, 3, 4, 5, 6, 7, 8, 9, 10]\n"
     ]
    }
   ],
   "source": [
    "a=[]\n",
    "for i in range(1,11):\n",
    "    a.append(i)\n",
    "print(a)"
   ]
  },
  {
   "cell_type": "code",
   "execution_count": 25,
   "id": "5b3b7e73",
   "metadata": {},
   "outputs": [
    {
     "name": "stdout",
     "output_type": "stream",
     "text": [
      "rrr\n"
     ]
    }
   ],
   "source": [
    "movies=input()\n",
    "\n",
    "print(movies)\n"
   ]
  },
  {
   "cell_type": "code",
   "execution_count": 31,
   "id": "863017c1",
   "metadata": {},
   "outputs": [
    {
     "name": "stdout",
     "output_type": "stream",
     "text": [
      "['rrr', 'rrr', '1', 'oye', 'pk']\n"
     ]
    }
   ],
   "source": [
    "movies=[]\n",
    "for i in range(5):\n",
    "    values=input('enter a five movies')\n",
    "    movies.append(values)\n",
    "print(movies)"
   ]
  },
  {
   "cell_type": "code",
   "execution_count": 2,
   "id": "09397413",
   "metadata": {},
   "outputs": [
    {
     "name": "stdout",
     "output_type": "stream",
     "text": [
      "[1, 5, 9, 4, 10]\n"
     ]
    }
   ],
   "source": [
    "\n",
    "x=[1,5,10]\n",
    "x.insert(2,9)\n",
    "x.insert(3,4)\n",
    "print(x)\n",
    "\n",
    "    "
   ]
  },
  {
   "cell_type": "code",
   "execution_count": 1,
   "id": "d033d317",
   "metadata": {},
   "outputs": [
    {
     "name": "stdout",
     "output_type": "stream",
     "text": [
      "[1, 2, 3, 5, 10, 9]\n"
     ]
    }
   ],
   "source": [
    "x=[1,2,3,5,10]\n",
    "x.insert(5,9)\n",
    "print(x)"
   ]
  },
  {
   "cell_type": "markdown",
   "id": "a4596699",
   "metadata": {},
   "source": [
    "PYTHON DATA STRUCTURES\n",
    "\n",
    "\n",
    "list methods are - 11 methods \n",
    "\n",
    "\n",
    ".ADDING ELEMENTS\n",
    "\n",
    "1.APPEND()->  ADD ONE ELEMENT TO THE END OF THE LIST\n",
    "2.INSERT()->ADD ONE ELEMENT TO A SPECIFIC POSITION\n",
    "3.EXTEND()->APPEND MULTIPLE ITEMS IN A LIST\n",
    "\n",
    "\n",
    ".REMOVEING ELEMENTS\n",
    "\n",
    "1.\tremove()-> remove the first occurrence of a value\n",
    "2.\tpop()->remove and return an element from an index\n",
    "3.\tclear()-> remove all elements from the list"
   ]
  },
  {
   "cell_type": "code",
   "execution_count": 4,
   "id": "bbf40903",
   "metadata": {},
   "outputs": [
    {
     "name": "stdout",
     "output_type": "stream",
     "text": [
      "size of book list 10\n"
     ]
    }
   ],
   "source": [
    "books=['artof laziness','hero of ages ',  'oarthbringer','well of acsension','war breaker','king of throns','the final empire ','the way of kinds', 'wind and truth','new moon']\n",
    "print('size of book list',len(books))      #len function checks the size of the iterable"
   ]
  },
  {
   "cell_type": "code",
   "execution_count": null,
   "id": "d941d849",
   "metadata": {},
   "outputs": [
    {
     "name": "stdout",
     "output_type": "stream",
     "text": [
      "['artof laziness', 'hero of ages ', 'oarthbringer', 'well of acsension', 'war breaker', 'king of throns', 'the final empire ', 'the way of kinds', 'wind and truth']\n"
     ]
    }
   ],
   "source": [
    "books.remove('new moon')\n",
    "print(books)               # remove or delete the data"
   ]
  },
  {
   "cell_type": "code",
   "execution_count": null,
   "id": "7905b3c4",
   "metadata": {},
   "outputs": [
    {
     "name": "stdout",
     "output_type": "stream",
     "text": [
      "['artof laziness', 'hero of ages ', 'well of acsension', 'war breaker', 'king of throns', 'the final empire ', 'the way of kinds', 'wind and truth']\n"
     ]
    }
   ],
   "source": [
    "#validation based removal:\n",
    "\n",
    "if 'oarthbringer' in books:\n",
    "    books.remove('oarthbringer')\n",
    "print(books)              \n",
    "    "
   ]
  },
  {
   "cell_type": "code",
   "execution_count": 8,
   "id": "aa1e7f34",
   "metadata": {},
   "outputs": [
    {
     "name": "stdout",
     "output_type": "stream",
     "text": [
      "['artof laziness', 'hero of ages ', 'well of acsension', 'war breaker', 'king of throns', 'the final empire ', 'the way of kinds', 'wind and truth']\n",
      "8\n"
     ]
    }
   ],
   "source": [
    "print(books)\n",
    "print(len(books))"
   ]
  },
  {
   "cell_type": "code",
   "execution_count": null,
   "id": "f344c4b0",
   "metadata": {},
   "outputs": [
    {
     "name": "stdout",
     "output_type": "stream",
     "text": [
      "['artof laziness', 'hero of ages ', 'well of acsension', 'king of throns', 'the final empire ', 'the way of kinds', 'wind and truth']\n"
     ]
    }
   ],
   "source": [
    "books.pop(3)        #remove the given index number and pop is also a remove \n",
    "print(books)"
   ]
  },
  {
   "cell_type": "code",
   "execution_count": null,
   "id": "d2ca6324",
   "metadata": {},
   "outputs": [
    {
     "data": {
      "text/plain": [
       "'the way of kinds'"
      ]
     },
     "execution_count": 11,
     "metadata": {},
     "output_type": "execute_result"
    }
   ],
   "source": [
    "books.pop()"
   ]
  },
  {
   "cell_type": "code",
   "execution_count": 12,
   "id": "f4d3f96d",
   "metadata": {},
   "outputs": [
    {
     "data": {
      "text/plain": [
       "'the final empire '"
      ]
     },
     "execution_count": 12,
     "metadata": {},
     "output_type": "execute_result"
    }
   ],
   "source": [
    "books.pop()  #pop without any index number will remove the last element\n"
   ]
  },
  {
   "cell_type": "code",
   "execution_count": 14,
   "id": "bb867ee5",
   "metadata": {},
   "outputs": [
    {
     "name": "stdout",
     "output_type": "stream",
     "text": [
      "[]\n"
     ]
    }
   ],
   "source": [
    "books.clear()\n",
    "print(books)"
   ]
  },
  {
   "cell_type": "code",
   "execution_count": 19,
   "id": "6a843a72",
   "metadata": {},
   "outputs": [
    {
     "name": "stdout",
     "output_type": "stream",
     "text": [
      "['c', 'python', 'java', 'html', 'css', 'Javascript', 'c++', 'mongo', 'assembly']\n",
      "size of lan 9\n",
      "[12, 56, 22, 13, 14, 80, 50, 33, 44, 55, 65, 75, 85, 95]\n",
      "size of numbers  14\n",
      "[1, 'apple', 2, 'avocado', 3, 'apricot']\n",
      "6\n"
     ]
    }
   ],
   "source": [
    "languages=['c','python','java','html','css','Javascript','c++','mongo','assembly']\n",
    "numbers=[12,56,22,13,14,80,50,33,44,55,65,75,85,95]\n",
    "data=[1,'apple',2,'avocado',3,'apricot']\n",
    "print(languages)\n",
    "print( 'size of lan',len(languages))\n",
    "print(numbers)\n",
    "print( 'size of numbers ',len(numbers))\n",
    "print(data)\n",
    "print(len(data))"
   ]
  },
  {
   "cell_type": "code",
   "execution_count": 23,
   "id": "24267d65",
   "metadata": {},
   "outputs": [
    {
     "data": {
      "text/plain": [
       "1"
      ]
     },
     "execution_count": 23,
     "metadata": {},
     "output_type": "execute_result"
    }
   ],
   "source": [
    "numbers.count(50)\n"
   ]
  },
  {
   "cell_type": "code",
   "execution_count": 24,
   "id": "a231ec98",
   "metadata": {},
   "outputs": [
    {
     "name": "stdout",
     "output_type": "stream",
     "text": [
      "0\n",
      "1\n",
      "1\n"
     ]
    }
   ],
   "source": [
    "print(numbers.count(1))\n",
    "print(numbers.count(55))\n",
    "print(numbers.count(13))"
   ]
  },
  {
   "cell_type": "code",
   "execution_count": 29,
   "id": "8f01a6aa",
   "metadata": {},
   "outputs": [
    {
     "data": {
      "text/plain": [
       "2"
      ]
     },
     "execution_count": 29,
     "metadata": {},
     "output_type": "execute_result"
    }
   ],
   "source": [
    "languages.index('java')\n"
   ]
  },
  {
   "cell_type": "code",
   "execution_count": 30,
   "id": "e277c2ef",
   "metadata": {},
   "outputs": [
    {
     "name": "stdout",
     "output_type": "stream",
     "text": [
      "1\n",
      "2\n"
     ]
    }
   ],
   "source": [
    "print(languages.index('python'))\n",
    "print(languages.index('java'))"
   ]
  },
  {
   "cell_type": "code",
   "execution_count": null,
   "id": "61d9b6d7",
   "metadata": {},
   "outputs": [],
   "source": [
    "languages=['c','python','java','html','css','Javascript','c++','mongo','assembly']\n",
    "numbers=[12,56,22,13,14,80,50,33,44,55,65,75,85,95]\n",
    "data=[1,'apple',2,'avocado',3,'apricot']\n",
    "print(languages)\n",
    "print( 'size of lan',len(languages))\n",
    "print(numbers)\n",
    "print( 'size of numbers ',len(numbers))\n",
    "print(data)\n",
    "print(len(data))"
   ]
  },
  {
   "cell_type": "code",
   "execution_count": 3,
   "id": "fc670bf2",
   "metadata": {},
   "outputs": [],
   "source": [
    "# print(\"original\",data)\n",
    "# data.reverse()\n",
    "# print('reversed',data)"
   ]
  },
  {
   "cell_type": "code",
   "execution_count": null,
   "id": "aed8aa27",
   "metadata": {},
   "outputs": [
    {
     "ename": "NameError",
     "evalue": "name 'languages' is not defined",
     "output_type": "error",
     "traceback": [
      "\u001b[31m---------------------------------------------------------------------------\u001b[39m",
      "\u001b[31mNameError\u001b[39m                                 Traceback (most recent call last)",
      "\u001b[36mCell\u001b[39m\u001b[36m \u001b[39m\u001b[32mIn[27]\u001b[39m\u001b[32m, line 1\u001b[39m\n\u001b[32m----> \u001b[39m\u001b[32m1\u001b[39m \u001b[38;5;28mprint\u001b[39m(\u001b[33m\"\u001b[39m\u001b[33msorted\u001b[39m\u001b[33m\"\u001b[39m, \u001b[43mlanguages\u001b[49m)\n\u001b[32m      2\u001b[39m languages.sort(reverse=\u001b[38;5;28;01mTrue\u001b[39;00m)\n\u001b[32m      3\u001b[39m \u001b[38;5;28mprint\u001b[39m(\u001b[33m\"\u001b[39m\u001b[33msorted in reverse\u001b[39m\u001b[33m\"\u001b[39m, languages)\n",
      "\u001b[31mNameError\u001b[39m: name 'languages' is not defined"
     ]
    }
   ],
   "source": [
    "# print(\"Original\", languages)\n",
    "# languages.sort()\n",
    "# print(\"sorted\", languages)\n",
    "# languages.sort(reverse=True)\n",
    "# print(\"sorted in reverse\", languages)"
   ]
  },
  {
   "cell_type": "code",
   "execution_count": 2,
   "id": "91b4dc49",
   "metadata": {},
   "outputs": [
    {
     "name": "stdout",
     "output_type": "stream",
     "text": [
      "[1, 2, 3, 4]\n",
      "[1, 2, 3, 4]\n",
      "[1, 2, 3, 4]\n",
      "[1, 2, 3, 4]\n",
      "[1, 2, 3, 4]\n",
      "[1, 2, 3, 4, 10, 20]\n"
     ]
    }
   ],
   "source": [
    "x=[1,2,3,4,]\n",
    "y=x\n",
    "z=x.copy()\n",
    "print(x,y,z,sep='\\n')\n",
    "x.append(10)\n",
    "y.pop()\n",
    "z.append(10)\n",
    "z.append(20)\n",
    "print(x,y,z,sep='\\n')\n"
   ]
  },
  {
   "cell_type": "markdown",
   "id": "fba55bcd",
   "metadata": {},
   "source": [
    "# Nested list\n",
    "list within list"
   ]
  },
  {
   "cell_type": "code",
   "execution_count": 1,
   "id": "687f1d68",
   "metadata": {},
   "outputs": [
    {
     "name": "stdout",
     "output_type": "stream",
     "text": [
      "[]\n",
      "[[]]\n"
     ]
    }
   ],
   "source": [
    "x=[]\n",
    "x1=[[]]\n",
    "\n",
    "print(x)\n",
    "print((x1))"
   ]
  },
  {
   "cell_type": "code",
   "execution_count": 6,
   "id": "85fa9bf6",
   "metadata": {},
   "outputs": [
    {
     "name": "stdout",
     "output_type": "stream",
     "text": [
      "[['red', 'green', 'black'], ['apple', 'gauva', 'black berry'], [150, 200, 300]]\n",
      "size of list 3\n",
      "size of list at index 0 is  3 => ['red', 'green', 'black']\n",
      "size of list at index 1 is  3 => ['apple', 'gauva', 'black berry']\n",
      "size of list at index 2 is  3 => [150, 200, 300]\n",
      "Element 0 as list 0 is  red\n",
      "element 2 as list 0 is  black\n",
      "element 0 as list 1 is  apple\n",
      "element 1 as list 1 is gauva\n"
     ]
    }
   ],
   "source": [
    "items=[\n",
    "    ['red','green','black'],\n",
    "    [ 'apple','gauva','black berry'],\n",
    "    [150,200,300]\n",
    "]\n",
    "print(items)\n",
    "print('size of list',len(items))\n",
    "print('size of list at index 0 is ',len(items[0]),'=>',items[0])\n",
    "print('size of list at index 1 is ',len(items[1]),'=>',items[1])\n",
    "print('size of list at index 2 is ',len(items[2]),'=>',items[2])\n",
    "print('Element 0 as list 0 is ', items[0][0])\n",
    "print('element 2 as list 0 is ',items[0][2])\n",
    "print('element 0 as list 1 is ', items[1][0])\n",
    "print('element 1 as list 1 is',items[1][1])\n"
   ]
  },
  {
   "cell_type": "code",
   "execution_count": 7,
   "id": "7a86ff35",
   "metadata": {},
   "outputs": [
    {
     "name": "stdout",
     "output_type": "stream",
     "text": [
      "[['red', 'green', 'black'], ['apple', 'gauva', 'black berry'], [150, 200, 300]]\n"
     ]
    }
   ],
   "source": [
    "items=[\n",
    "    ['red','green','black'],\n",
    "    [ 'apple','gauva','black berry'],\n",
    "    [150,200,300]\n",
    "]\n",
    "print(items)"
   ]
  },
  {
   "cell_type": "code",
   "execution_count": 11,
   "id": "4d234f09",
   "metadata": {},
   "outputs": [
    {
     "name": "stdout",
     "output_type": "stream",
     "text": [
      "[[12, 23, 45, 25], [83, 95, 25, 15], [30, 32, 35, 5]]\n"
     ]
    }
   ],
   "source": [
    "matrix=[\n",
    "    [12,23,45,25],\n",
    "    [83,95,25,15],\n",
    "    [30,32,35,5]\n",
    "]\n",
    "print(matrix)\n",
    "\n"
   ]
  },
  {
   "cell_type": "code",
   "execution_count": 13,
   "id": "466c6127",
   "metadata": {},
   "outputs": [
    {
     "name": "stdout",
     "output_type": "stream",
     "text": [
      "[12, 23, 45, 25]\n",
      "[83, 95, 25, 15]\n",
      "[30, 32, 35, 5]\n"
     ]
    }
   ],
   "source": [
    "print(matrix[0])\n",
    "print(matrix[1])\n",
    "print(matrix[2])"
   ]
  },
  {
   "cell_type": "code",
   "execution_count": 14,
   "id": "a143959c",
   "metadata": {},
   "outputs": [
    {
     "name": "stdout",
     "output_type": "stream",
     "text": [
      "[12, 23, 45, 25]\n",
      "[83, 95, 25, 15]\n",
      "[30, 32, 35, 5]\n"
     ]
    }
   ],
   "source": [
    "for row in matrix:\n",
    "    print(row)"
   ]
  },
  {
   "cell_type": "code",
   "execution_count": 19,
   "id": "e2513fb5",
   "metadata": {},
   "outputs": [
    {
     "name": "stdout",
     "output_type": "stream",
     "text": [
      "12 23 45 25 83 95 25 15 30 32 35 5 "
     ]
    }
   ],
   "source": [
    "#nested loop for nested list\n",
    "for row in matrix:\n",
    "    for val in row:\n",
    "        print(val,end=' ')\n",
    "      "
   ]
  },
  {
   "cell_type": "code",
   "execution_count": 16,
   "id": "848d132b",
   "metadata": {},
   "outputs": [
    {
     "name": "stdout",
     "output_type": "stream",
     "text": [
      "12 \n",
      "23 \n",
      "45 \n",
      "25 \n",
      "83 \n",
      "95 \n",
      "25 \n",
      "15 \n",
      "30 \n",
      "32 \n",
      "35 \n",
      "5 \n"
     ]
    }
   ],
   "source": [
    "#nested loop for nested list\n",
    "for row in matrix:\n",
    "    for val in row:\n",
    "        print(val,end=' ')\n",
    "        print()"
   ]
  },
  {
   "cell_type": "code",
   "execution_count": 17,
   "id": "9eb21511",
   "metadata": {},
   "outputs": [
    {
     "name": "stdout",
     "output_type": "stream",
     "text": [
      "12 23 45 25 \n",
      "83 95 25 15 \n",
      "30 32 35 5 \n"
     ]
    }
   ],
   "source": [
    "#nested loop for nested list\n",
    "for row in matrix:\n",
    "    for val in row:\n",
    "        print(val,end=' ')\n",
    "    print()"
   ]
  },
  {
   "cell_type": "code",
   "execution_count": 18,
   "id": "f15c0922",
   "metadata": {},
   "outputs": [
    {
     "name": "stdout",
     "output_type": "stream",
     "text": [
      "12 23 45 25 83 95 25 15 30 32 35 5 \n"
     ]
    }
   ],
   "source": [
    "#nested loop for nested list\n",
    "for row in matrix:\n",
    "    for val in row:\n",
    "        print(val,end=' ')\n",
    "print()"
   ]
  },
  {
   "cell_type": "code",
   "execution_count": 26,
   "id": "c22f225f",
   "metadata": {},
   "outputs": [
    {
     "name": "stdout",
     "output_type": "stream",
     "text": [
      "425\n"
     ]
    }
   ],
   "source": [
    "total =0\n",
    "for row in matrix:\n",
    "    for val in row:\n",
    "        total+=val\n",
    "print(total)"
   ]
  },
  {
   "cell_type": "code",
   "execution_count": 27,
   "id": "61c79081",
   "metadata": {},
   "outputs": [
    {
     "name": "stdout",
     "output_type": "stream",
     "text": [
      "154242427500000000\n"
     ]
    }
   ],
   "source": [
    "\n",
    "total =1\n",
    "for row in matrix:\n",
    "    for val in row:\n",
    "        total*=val\n",
    "print(total)"
   ]
  },
  {
   "cell_type": "code",
   "execution_count": 28,
   "id": "e4b46724",
   "metadata": {},
   "outputs": [
    {
     "name": "stdout",
     "output_type": "stream",
     "text": [
      "105\n",
      "323\n",
      "425\n"
     ]
    }
   ],
   "source": [
    "total =0\n",
    "for row in matrix:\n",
    "    for val in row:\n",
    "        total+=val\n",
    "    print(total)"
   ]
  },
  {
   "cell_type": "markdown",
   "id": "1f7c072f",
   "metadata": {},
   "source": [
    "wap to print row wise sum of matrix"
   ]
  },
  {
   "cell_type": "code",
   "execution_count": 29,
   "id": "3f38b747",
   "metadata": {},
   "outputs": [
    {
     "name": "stdout",
     "output_type": "stream",
     "text": [
      "[12, 23, 45, 25] => 105\n",
      "[83, 95, 25, 15] => 218\n",
      "[30, 32, 35, 5] => 102\n"
     ]
    }
   ],
   "source": [
    "for row in matrix:\n",
    "    total=0\n",
    "    for value in row:\n",
    "        total+=value\n",
    "    print(row,'=>',total)"
   ]
  },
  {
   "cell_type": "code",
   "execution_count": null,
   "id": "2345bb9a",
   "metadata": {},
   "outputs": [],
   "source": [
    "# WAP to print row wise average of the average of the values\n"
   ]
  },
  {
   "cell_type": "code",
   "execution_count": null,
   "id": "b5c2d448",
   "metadata": {},
   "outputs": [
    {
     "name": "stdout",
     "output_type": "stream",
     "text": [
      "coloum3=>45\n"
     ]
    }
   ],
   "source": [
    "size=len(matrix[0])\n",
    "for c in range(size):\n",
    "    total=0\n",
    "    for r in range(len(matrix)):\n",
    "        total+=matrix[r][c]\n",
    "print(f\"coloum{c}=>{total}\")"
   ]
  },
  {
   "cell_type": "code",
   "execution_count": 34,
   "id": "4998a90f",
   "metadata": {},
   "outputs": [
    {
     "name": "stdout",
     "output_type": "stream",
     "text": [
      "coloum0=>125\n",
      "coloum1=>150\n",
      "coloum2=>105\n",
      "coloum3=>45\n"
     ]
    }
   ],
   "source": [
    "size=len(matrix[0])\n",
    "for c in range(size):\n",
    "    total=0\n",
    "    for r in range(len(matrix)):\n",
    "        total+=matrix[r][c]\n",
    "    print(f\"coloum{c}=>{total}\")"
   ]
  },
  {
   "cell_type": "code",
   "execution_count": 36,
   "id": "716e9d75",
   "metadata": {},
   "outputs": [
    {
     "name": "stdout",
     "output_type": "stream",
     "text": [
      "colum 0=> 31.25\n",
      "colum 1=> 37.5\n",
      "colum 2=> 26.25\n",
      "colum 3=> 11.25\n"
     ]
    }
   ],
   "source": [
    "size=len(matrix[0])\n",
    "for c in range(size):\n",
    "    total=0\n",
    "    for r in range(len(matrix)):\n",
    "        total+=matrix[r][c]\n",
    "    print(f\"colum {c}=> {total/size}\")"
   ]
  },
  {
   "cell_type": "code",
   "execution_count": 1,
   "id": "af102611",
   "metadata": {},
   "outputs": [
    {
     "name": "stdout",
     "output_type": "stream",
     "text": [
      "1 \n",
      "5 \n",
      "6 \n",
      "9 \n",
      "10 \n",
      "11 \n"
     ]
    }
   ],
   "source": [
    "mat=[\n",
    "    [1,2,3,4],\n",
    "    [5,6,7,8],\n",
    "    [9,10,11,12]\n",
    "]\n",
    "for r in range(len(mat)):\n",
    "    for c in range (len(mat[0])):\n",
    "        if (c<=r):\n",
    "            print(mat[r][c],end=' ')\n",
    "            print()"
   ]
  },
  {
   "cell_type": "markdown",
   "id": "84c9f98e",
   "metadata": {},
   "source": [
    "# slicing"
   ]
  },
  {
   "cell_type": "code",
   "execution_count": 3,
   "id": "2f06cf7f",
   "metadata": {},
   "outputs": [
    {
     "data": {
      "text/plain": [
       "[13, 15, 19]"
      ]
     },
     "execution_count": 3,
     "metadata": {},
     "output_type": "execute_result"
    }
   ],
   "source": [
    "x=[11,12,13,15,19]\n",
    "x[0:3]\n",
    "x[2:len(x)]\n"
   ]
  },
  {
   "cell_type": "code",
   "execution_count": null,
   "id": "88c14d62",
   "metadata": {},
   "outputs": [
    {
     "data": {
      "text/plain": [
       "['c', 'a', 't']"
      ]
     },
     "execution_count": 7,
     "metadata": {},
     "output_type": "execute_result"
    }
   ],
   "source": [
    "x=['e','d','u','c','a','t','i','o','n']\n",
    "x[3:6]\n"
   ]
  },
  {
   "cell_type": "markdown",
   "id": "453e0aa5",
   "metadata": {},
   "source": [
    "# slicing \n",
    "\n",
    "# syntax\n"
   ]
  },
  {
   "cell_type": "code",
   "execution_count": 8,
   "id": "ce5c6ea3",
   "metadata": {},
   "outputs": [
    {
     "data": {
      "text/plain": [
       "['s', 'h', 'a', 'k', 'e', 's']"
      ]
     },
     "execution_count": 8,
     "metadata": {},
     "output_type": "execute_result"
    }
   ],
   "source": [
    "#  var[start: stop : step]\n",
    "name= ['w','i','l','l','i','a','m', 's','h','a','k','e','s','p','e','a','r','c','e']\n",
    "\n",
    "name[7:13]"
   ]
  },
  {
   "cell_type": "code",
   "execution_count": 9,
   "id": "9a0ebcd1",
   "metadata": {},
   "outputs": [
    {
     "data": {
      "text/plain": [
       "'shakes'"
      ]
     },
     "execution_count": 9,
     "metadata": {},
     "output_type": "execute_result"
    }
   ],
   "source": [
    "\n",
    "name= 'william shakespearce'\n",
    "name[8:14]"
   ]
  },
  {
   "cell_type": "code",
   "execution_count": 9,
   "id": "daa617ee",
   "metadata": {},
   "outputs": [
    {
     "data": {
      "text/plain": [
       "'pear'"
      ]
     },
     "execution_count": 9,
     "metadata": {},
     "output_type": "execute_result"
    }
   ],
   "source": [
    "name= 'william shakespearce'\n",
    "name[14:18]"
   ]
  },
  {
   "cell_type": "code",
   "execution_count": 10,
   "id": "b5a9ac7d",
   "metadata": {},
   "outputs": [
    {
     "data": {
      "text/plain": [
       "'shakespea'"
      ]
     },
     "execution_count": 10,
     "metadata": {},
     "output_type": "execute_result"
    }
   ],
   "source": [
    "name= 'william shakespearce'\n",
    "name[8:-3]"
   ]
  },
  {
   "cell_type": "code",
   "execution_count": 12,
   "id": "5893d4ad",
   "metadata": {},
   "outputs": [
    {
     "data": {
      "text/plain": [
       "'shakespearce'"
      ]
     },
     "execution_count": 12,
     "metadata": {},
     "output_type": "execute_result"
    }
   ],
   "source": [
    "name[8: ]"
   ]
  },
  {
   "cell_type": "code",
   "execution_count": 11,
   "id": "349d11cc",
   "metadata": {},
   "outputs": [
    {
     "data": {
      "text/plain": [
       "'william'"
      ]
     },
     "execution_count": 11,
     "metadata": {},
     "output_type": "execute_result"
    }
   ],
   "source": [
    "name[ :7]"
   ]
  },
  {
   "cell_type": "code",
   "execution_count": 15,
   "id": "a7ef3193",
   "metadata": {},
   "outputs": [],
   "source": [
    "name= 'william shakespearce'\n",
    "fname=name[1:7]\n",
    "fname=name[8:18]"
   ]
  },
  {
   "cell_type": "code",
   "execution_count": 19,
   "id": "81d3fd76",
   "metadata": {},
   "outputs": [
    {
     "data": {
      "text/plain": [
       "' uehydv '"
      ]
     },
     "execution_count": 19,
     "metadata": {},
     "output_type": "execute_result"
    }
   ],
   "source": [
    "name=\" rupesh yadav  \"\n",
    "name[: : 2]"
   ]
  },
  {
   "cell_type": "code",
   "execution_count": 22,
   "id": "60f873c5",
   "metadata": {},
   "outputs": [
    {
     "data": {
      "text/plain": [
       "' ode d'"
      ]
     },
     "execution_count": 22,
     "metadata": {},
     "output_type": "execute_result"
    }
   ],
   "source": [
    "name=\" roop dinesh yadav\"\n",
    "name[: : 3]"
   ]
  },
  {
   "cell_type": "code",
   "execution_count": 23,
   "id": "ae68a76d",
   "metadata": {},
   "outputs": [
    {
     "data": {
      "text/plain": [
       "'ro iehydv'"
      ]
     },
     "execution_count": 23,
     "metadata": {},
     "output_type": "execute_result"
    }
   ],
   "source": [
    "name[1 : : 2]"
   ]
  },
  {
   "cell_type": "code",
   "execution_count": 8,
   "id": "fdea8c79",
   "metadata": {},
   "outputs": [
    {
     "name": "stdout",
     "output_type": "stream",
     "text": [
      "vijay de\n",
      "ja\n",
      "evarkon\n"
     ]
    }
   ],
   "source": [
    "name=\" vijay devarkonda\"\n",
    "fname=name[1:9]\n",
    "mname=name[3:5]\n",
    "lname=name[8:15]\n",
    "name[::4]\n",
    "print(fname)\n",
    "print(mname)\n",
    "print(lname)"
   ]
  },
  {
   "cell_type": "code",
   "execution_count": 10,
   "id": "3d10f72c",
   "metadata": {},
   "outputs": [
    {
     "data": {
      "text/plain": [
       "' aeka'"
      ]
     },
     "execution_count": 10,
     "metadata": {},
     "output_type": "execute_result"
    }
   ],
   "source": [
    "name=\" vijay devarkonda\"\n",
    "fname=name[1:9]\n",
    "mname=name[3:5]\n",
    "lname=name[8:15]\n",
    "name[::4]\n"
   ]
  },
  {
   "cell_type": "code",
   "execution_count": 13,
   "id": "3cb41540",
   "metadata": {},
   "outputs": [
    {
     "name": "stdout",
     "output_type": "stream",
     "text": [
      "13\n",
      "11\n",
      "9\n",
      "7\n",
      "6\n",
      "4\n",
      "3\n",
      "2\n",
      "1\n"
     ]
    }
   ],
   "source": [
    "x=[1,2,3,4,6,7,9,11,13]\n",
    "for item in x[::-1]:\n",
    "    print(item)\n"
   ]
  },
  {
   "cell_type": "markdown",
   "id": "13934d16",
   "metadata": {},
   "source": [
    "# reverse a list in place\n",
    " # a=[1,2,3]\n",
    " # a[:]     # get all element\n",
    "# a[:]=a[a::1]"
   ]
  },
  {
   "cell_type": "code",
   "execution_count": 18,
   "id": "a353561e",
   "metadata": {},
   "outputs": [
    {
     "name": "stdout",
     "output_type": "stream",
     "text": [
      "[3, 2, 1]\n"
     ]
    }
   ],
   "source": [
    "a=[1,2,3]\n",
    "a[:]     # get all element\n",
    "a[:]=a[::-1]\n",
    "print(a)"
   ]
  },
  {
   "cell_type": "code",
   "execution_count": 20,
   "id": "5ec0cc2f",
   "metadata": {},
   "outputs": [
    {
     "name": "stdout",
     "output_type": "stream",
     "text": [
      "[1, 2, 3, 4, 5] [3, 4, 5, 1, 2]\n"
     ]
    }
   ],
   "source": [
    "x=[1,2,3,4,5]\n",
    "ans=x[2:]+x[:2]\n",
    "print(x, ans)"
   ]
  },
  {
   "cell_type": "markdown",
   "id": "08388a07",
   "metadata": {},
   "source": [
    "# COMPREHENSION\n"
   ]
  },
  {
   "cell_type": "code",
   "execution_count": 22,
   "id": "84a29900",
   "metadata": {},
   "outputs": [
    {
     "name": "stdout",
     "output_type": "stream",
     "text": [
      "[1, 3, 4, 5] [2, 6, 8, 10]\n"
     ]
    }
   ],
   "source": [
    "x=[1,3,4,5]\n",
    "x2=[]\n",
    "for i in x:\n",
    "    s=i*2\n",
    "    x2.append(s)\n",
    "print(x,x2)"
   ]
  },
  {
   "cell_type": "code",
   "execution_count": 23,
   "id": "6ab18a0f",
   "metadata": {},
   "outputs": [
    {
     "name": "stdout",
     "output_type": "stream",
     "text": [
      "[1, 3, 4, 5] [2]\n",
      "[1, 3, 4, 5] [2, 6]\n",
      "[1, 3, 4, 5] [2, 6, 8]\n",
      "[1, 3, 4, 5] [2, 6, 8, 10]\n"
     ]
    }
   ],
   "source": [
    "x=[1,3,4,5]\n",
    "x2=[]\n",
    "for i in x:\n",
    "    s=i*2\n",
    "    x2.append(s)\n",
    "    print(x,x2)"
   ]
  },
  {
   "cell_type": "code",
   "execution_count": 27,
   "id": "a638bfb3",
   "metadata": {},
   "outputs": [
    {
     "name": "stdout",
     "output_type": "stream",
     "text": [
      "[4, 8, 12, 16] [2, 4, 6, 8]\n"
     ]
    }
   ],
   "source": [
    "x=[4,8,12,16]\n",
    "x3=[]\n",
    "for i in x:\n",
    "    x3.append(i//2)\n",
    "print(x,x3)"
   ]
  },
  {
   "cell_type": "code",
   "execution_count": 28,
   "id": "5195e1e8",
   "metadata": {},
   "outputs": [
    {
     "name": "stdout",
     "output_type": "stream",
     "text": [
      "[1, 2, 3]\n",
      "[4, 5, 6]\n",
      "[5]\n",
      "[1, 2, 3]\n",
      "[4, 5, 6]\n",
      "[5, 7]\n",
      "[1, 2, 3]\n",
      "[4, 5, 6]\n",
      "[5, 7, 9]\n"
     ]
    }
   ],
   "source": [
    "x=[1,2,3]\n",
    "y=[4,5,6]\n",
    "xy=[]\n",
    "for i,j in zip(x,y):\n",
    "    xy.append(i+j)\n",
    "    print(x,y,xy,sep=\"\\n\")"
   ]
  },
  {
   "cell_type": "code",
   "execution_count": 29,
   "id": "45171419",
   "metadata": {},
   "outputs": [
    {
     "name": "stdout",
     "output_type": "stream",
     "text": [
      "[1, 2, 3]\n",
      "[4, 5, 6]\n",
      "[5, 7, 9]\n"
     ]
    }
   ],
   "source": [
    "x=[1,2,3]\n",
    "y=[4,5,6]\n",
    "xy=[]\n",
    "for i,j in zip(x,y):\n",
    "    xy.append(i+j)\n",
    "print(x,y,xy,sep=\"\\n\")"
   ]
  },
  {
   "cell_type": "code",
   "execution_count": 33,
   "id": "7445fe5f",
   "metadata": {},
   "outputs": [
    {
     "name": "stdout",
     "output_type": "stream",
     "text": [
      "[2, 3, 4] [4, 9, 16]\n"
     ]
    }
   ],
   "source": [
    "z=[2,3,4]\n",
    "zsqr=[]\n",
    "for i in z:\n",
    "    zsqr.append(i**2)\n",
    "print(z,zsqr)"
   ]
  },
  {
   "cell_type": "code",
   "execution_count": 34,
   "id": "17cddc7b",
   "metadata": {},
   "outputs": [
    {
     "name": "stdout",
     "output_type": "stream",
     "text": [
      "[2, 3, 4] [8, 27, 64]\n"
     ]
    }
   ],
   "source": [
    "z=[2,3,4]\n",
    "zsqr=[]\n",
    "for i in z:\n",
    "    zsqr.append(i**3)\n",
    "print(z,zsqr)"
   ]
  },
  {
   "cell_type": "code",
   "execution_count": null,
   "id": "5c7f4a37",
   "metadata": {},
   "outputs": [],
   "source": []
  },
  {
   "cell_type": "code",
   "execution_count": 4,
   "id": "1790e936",
   "metadata": {},
   "outputs": [
    {
     "name": "stdout",
     "output_type": "stream",
     "text": [
      "[2, 2, 2]\n"
     ]
    }
   ],
   "source": [
    "y=[1,2,3]\n",
    "y2=[1*2 for i in y]\n",
    "print(y2)"
   ]
  },
  {
   "cell_type": "code",
   "execution_count": null,
   "id": "13ec25cb",
   "metadata": {},
   "outputs": [
    {
     "name": "stdout",
     "output_type": "stream",
     "text": [
      "(2, 3, 5)\n"
     ]
    }
   ],
   "source": [
    "#TUPLE\n",
    "MY_TUPLE=(2,3,5)      #it is  a mutable \n",
    "                      # a tuple in a python is similar to the list\n",
    "print(MY_TUPLE)\n"
   ]
  },
  {
   "cell_type": "code",
   "execution_count": null,
   "id": "55e70a04",
   "metadata": {},
   "outputs": [],
   "source": []
  }
 ],
 "metadata": {
  "kernelspec": {
   "display_name": "Python 3",
   "language": "python",
   "name": "python3"
  },
  "language_info": {
   "codemirror_mode": {
    "name": "ipython",
    "version": 3
   },
   "file_extension": ".py",
   "mimetype": "text/x-python",
   "name": "python",
   "nbconvert_exporter": "python",
   "pygments_lexer": "ipython3",
   "version": "3.13.2"
  }
 },
 "nbformat": 4,
 "nbformat_minor": 5
}
