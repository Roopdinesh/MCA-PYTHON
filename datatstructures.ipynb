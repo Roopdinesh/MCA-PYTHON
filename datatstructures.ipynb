{
 "cells": [
  {
   "cell_type": "code",
   "execution_count": null,
   "id": "e1003e29",
   "metadata": {},
   "outputs": [],
   "source": [
    "x=[]  #creation of  empty list \n",
    "x=list()# empty list\n",
    "y=[1,2,3] #direct intializaton\n",
    "z=[]\n",
    "z.append('apple')  #adding a value\n",
    "\n"
   ]
  },
  {
   "cell_type": "code",
   "execution_count": null,
   "id": "9d7fb253",
   "metadata": {},
   "outputs": [
    {
     "name": "stdout",
     "output_type": "stream",
     "text": [
      "[1, 2, 3] [4, 5, 6] [1, 2, 3, 4, 5, 6]\n"
     ]
    }
   ],
   "source": [
    "x=[1,2,3]\n",
    "y=[4,5,6]\n",
    "z=x+y       #concatenate list\n",
    "print(x,y,z)"
   ]
  },
  {
   "cell_type": "code",
   "execution_count": 5,
   "id": "c38af807",
   "metadata": {},
   "outputs": [
    {
     "name": "stdout",
     "output_type": "stream",
     "text": [
      "[1, 1, 1, 1, 1, 1, 1, 1, 1, 1]\n",
      "[1, 2, 1, 2, 1, 2, 1, 2, 1, 2]\n",
      "[1, 1, 1, 1, 1, 1, 1, 1, 1, 1, 1, 1, 1, 1, 1, 1, 1, 1, 1, 1]\n"
     ]
    }
   ],
   "source": [
    "#list of duplicate\n",
    "\n",
    "a=[1]*10\n",
    "print(a)\n",
    "\n",
    "b=[1,2]*5\n",
    "c=a*2\n",
    "print(b)\n",
    "print(c)"
   ]
  },
  {
   "cell_type": "code",
   "execution_count": 7,
   "id": "2cc9fa82",
   "metadata": {},
   "outputs": [
    {
     "name": "stdout",
     "output_type": "stream",
     "text": [
      "[1, 1, 1, 1, 1, 1, 1, 1, 1, 1]\n",
      "1\n",
      "1\n",
      "1\n",
      "1\n",
      "1\n",
      "1\n",
      "1\n",
      "1\n",
      "1\n",
      "1\n",
      "1\n",
      "1 1\n"
     ]
    }
   ],
   "source": [
    "#displaying\n",
    "print(a) #new output\n",
    "#displaying single item of a time \n",
    "for item in a:\n",
    "    print(item)\n",
    "    #single element using index\n",
    "print(a[0])\n",
    "print(a[3],a[5])"
   ]
  },
  {
   "cell_type": "code",
   "execution_count": 1,
   "id": "81c3506c",
   "metadata": {},
   "outputs": [
    {
     "name": "stdout",
     "output_type": "stream",
     "text": [
      "['the way of king']\n",
      "['the way of king', 'the final empire ', 'steelheart', 'legion']\n"
     ]
    }
   ],
   "source": [
    "books=[]\n",
    "#adding one item at a time\n",
    "books.append('the way of king')\n",
    "print(books)\n",
    "books.append(\"the final empire \")\n",
    "books.append(\"steelheart\")\n",
    "books.append(\"legion\")\n",
    "print(books)"
   ]
  },
  {
   "cell_type": "code",
   "execution_count": 7,
   "id": "3cc720d2",
   "metadata": {},
   "outputs": [
    {
     "name": "stdout",
     "output_type": "stream",
     "text": [
      "['the way of king', 'the final empire ', 'steelheart', 'legion', 'harry poter']\n"
     ]
    }
   ],
   "source": [
    "books.append(\"harry poter\")\n",
    "print(books)"
   ]
  },
  {
   "cell_type": "code",
   "execution_count": 13,
   "id": "5e5efa39",
   "metadata": {},
   "outputs": [
    {
     "name": "stdout",
     "output_type": "stream",
     "text": [
      "['the way of king', 'the final empire ', 'steelheart', 'legion', 'harry poter', ['harry poter', 'jungle book']]\n"
     ]
    }
   ],
   "source": [
    "books.append([\"harry poter\",'jungle book'])\n",
    "print(books)"
   ]
  },
  {
   "cell_type": "code",
   "execution_count": 11,
   "id": "e443867e",
   "metadata": {},
   "outputs": [
    {
     "name": "stdout",
     "output_type": "stream",
     "text": [
      "['red', 'yellow', 'blue']\n",
      "['red', 'yellow', 'blue', 'black ', 'white']\n"
     ]
    }
   ],
   "source": [
    "colors=['red','yellow','blue']\n",
    "print(colors)\n",
    "colors.extend(['black ','white'])\n",
    "\n",
    "print(colors)"
   ]
  },
  {
   "cell_type": "code",
   "execution_count": 15,
   "id": "2d0cf7dd",
   "metadata": {},
   "outputs": [
    {
     "name": "stdout",
     "output_type": "stream",
     "text": [
      "['red', 'yellow', 'blue', 'black ', 'white']\n",
      "['pink', 'purrple', 'yellow']\n"
     ]
    }
   ],
   "source": [
    "colors2=['pink','purrple','yellow']\n",
    "print(colors)\n",
    "colors.extend([colors2])\n",
    "\n",
    "print(colors2)"
   ]
  },
  {
   "cell_type": "code",
   "execution_count": 20,
   "id": "ab1a2b87",
   "metadata": {},
   "outputs": [
    {
     "name": "stdout",
     "output_type": "stream",
     "text": [
      "[1]\n",
      "[1, 2]\n",
      "[1, 2, 3]\n",
      "[1, 2, 3, 4]\n",
      "[1, 2, 3, 4, 5]\n",
      "[1, 2, 3, 4, 5, 6]\n",
      "[1, 2, 3, 4, 5, 6, 7]\n",
      "[1, 2, 3, 4, 5, 6, 7, 8]\n",
      "[1, 2, 3, 4, 5, 6, 7, 8, 9]\n",
      "[1, 2, 3, 4, 5, 6, 7, 8, 9, 10]\n"
     ]
    }
   ],
   "source": [
    "a=[]\n",
    "for i in range(1,11):\n",
    "    a.append(i)\n",
    "    print(a)"
   ]
  },
  {
   "cell_type": "code",
   "execution_count": 21,
   "id": "3b9c09e9",
   "metadata": {},
   "outputs": [
    {
     "name": "stdout",
     "output_type": "stream",
     "text": [
      "[1, 2, 3, 4, 5, 6, 7, 8, 9, 10]\n"
     ]
    }
   ],
   "source": [
    "a=[]\n",
    "for i in range(1,11):\n",
    "    a.append(i)\n",
    "print(a)"
   ]
  },
  {
   "cell_type": "code",
   "execution_count": 25,
   "id": "5b3b7e73",
   "metadata": {},
   "outputs": [
    {
     "name": "stdout",
     "output_type": "stream",
     "text": [
      "rrr\n"
     ]
    }
   ],
   "source": [
    "movies=input()\n",
    "\n",
    "print(movies)\n"
   ]
  },
  {
   "cell_type": "code",
   "execution_count": 31,
   "id": "863017c1",
   "metadata": {},
   "outputs": [
    {
     "name": "stdout",
     "output_type": "stream",
     "text": [
      "['rrr', 'rrr', '1', 'oye', 'pk']\n"
     ]
    }
   ],
   "source": [
    "movies=[]\n",
    "for i in range(5):\n",
    "    values=input('enter a five movies')\n",
    "    movies.append(values)\n",
    "print(movies)"
   ]
  },
  {
   "cell_type": "code",
   "execution_count": 38,
   "id": "09397413",
   "metadata": {},
   "outputs": [
    {
     "name": "stdout",
     "output_type": "stream",
     "text": [
      "[1, 5, 10, 4, 9]\n"
     ]
    }
   ],
   "source": [
    "\n",
    "x=[1,5,10]\n",
    "x.insert(7,9)\n",
    "x.insert(3,4)\n",
    "print(x)\n",
    "\n",
    "    "
   ]
  },
  {
   "cell_type": "code",
   "execution_count": 39,
   "id": "d033d317",
   "metadata": {},
   "outputs": [
    {
     "name": "stdout",
     "output_type": "stream",
     "text": [
      "[1, 2, 3, 5, 10, 9]\n"
     ]
    }
   ],
   "source": [
    "x=[1,2,3,5,10]\n",
    "x.insert(7,9)\n",
    "print(x)"
   ]
  }
 ],
 "metadata": {
  "kernelspec": {
   "display_name": "Python 3",
   "language": "python",
   "name": "python3"
  },
  "language_info": {
   "codemirror_mode": {
    "name": "ipython",
    "version": 3
   },
   "file_extension": ".py",
   "mimetype": "text/x-python",
   "name": "python",
   "nbconvert_exporter": "python",
   "pygments_lexer": "ipython3",
   "version": "3.13.2"
  }
 },
 "nbformat": 4,
 "nbformat_minor": 5
}
