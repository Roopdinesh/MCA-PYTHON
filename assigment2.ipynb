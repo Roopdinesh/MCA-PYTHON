{
 "cells": [
  {
   "cell_type": "code",
   "execution_count": 1,
   "id": "2e0f4aa7",
   "metadata": {},
   "outputs": [
    {
     "name": "stdout",
     "output_type": "stream",
     "text": [
      "ADULT\n"
     ]
    }
   ],
   "source": [
    "# rite a program that takes an age as input and prints “Adult” if age >= 18, otherwise “Minor”.\n",
    "\n",
    "# Hint: Use if-else statement.\n",
    "\n",
    "\n",
    "x=int(input( 'enter your age'))\n",
    "\n",
    "age=20\n",
    "\n",
    "if age>=18:\n",
    "    print('ADULT')\n",
    "else:\n",
    "    print('minor')\n",
    "\n",
    "\n"
   ]
  },
  {
   "cell_type": "code",
   "execution_count": 11,
   "id": "03ac3a69",
   "metadata": {},
   "outputs": [
    {
     "name": "stdout",
     "output_type": "stream",
     "text": [
      "Even\n"
     ]
    }
   ],
   "source": [
    "# Even or Odd\n",
    "\n",
    "# Take a number as input and print “Even” if it’s even, “Odd” if it’s odd.\n",
    "\n",
    "# Hint: Use modulo operator % with if-else.\n",
    "num=int(input('enter a number:'))\n",
    "\n",
    "if num % 3!=0 :\n",
    "    print('Even')\n",
    "else:\n",
    "    print('it is odd')"
   ]
  },
  {
   "cell_type": "code",
   "execution_count": 12,
   "id": "894b55c1",
   "metadata": {},
   "outputs": [
    {
     "name": "stdout",
     "output_type": "stream",
     "text": [
      "it is odd\n"
     ]
    }
   ],
   "source": [
    "# Even or Odd\n",
    "\n",
    "# Take a number as input and print “Even” if it’s even, “Odd” if it’s odd.\n",
    "\n",
    "# Hint: Use modulo operator % with if-else.\n",
    "num=int(input('enter a number:'))\n",
    "\n",
    "if num % 2==0 :\n",
    "    print('Even')\n",
    "else:\n",
    "    print('it is odd')"
   ]
  },
  {
   "cell_type": "code",
   "execution_count": 13,
   "id": "a6ab5551",
   "metadata": {},
   "outputs": [
    {
     "name": "stdout",
     "output_type": "stream",
     "text": [
      "GRADE B\n"
     ]
    }
   ],
   "source": [
    "# 3.  Grade Calculator\n",
    "\n",
    "# Input a score (0-100) and print the grade: A (90-100), B (80-89), C (70-79), D (60-69), F (below 60).\n",
    "\n",
    "# Hint: Use if-elif-else chain.\n",
    "\n",
    "score=int(input('enter tour score'))\n",
    "if score>=90 and score==100:\n",
    "    print('GRADE A')\n",
    "elif score>=80 and score<=89:\n",
    "    print('GRADE B')\n",
    "elif score>=70 and score<=79:\n",
    "    print('Grade C')\n",
    "elif score>=60 and score<=69:\n",
    "    print('Grade D')\n",
    "else:\n",
    "    print('grade f')\n",
    "    "
   ]
  }
 ],
 "metadata": {
  "kernelspec": {
   "display_name": "Python 3",
   "language": "python",
   "name": "python3"
  },
  "language_info": {
   "codemirror_mode": {
    "name": "ipython",
    "version": 3
   },
   "file_extension": ".py",
   "mimetype": "text/x-python",
   "name": "python",
   "nbconvert_exporter": "python",
   "pygments_lexer": "ipython3",
   "version": "3.13.2"
  }
 },
 "nbformat": 4,
 "nbformat_minor": 5
}
